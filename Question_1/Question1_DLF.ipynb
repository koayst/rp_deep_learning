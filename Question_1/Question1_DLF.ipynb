{
 "cells": [
  {
   "cell_type": "markdown",
   "metadata": {},
   "source": [
    "<div style=\"width: 400px; height: 160px;\">\n",
    "    <img src=\"rplogo_small.png\" width=\"100%\" height=\"100%\" align=\"left\">\n",
    "</div>\n",
    "\n",
    "###     TIPP - AAI Assignement (Deep Learning Fundamentals)<br>Due Date: 21 February 2020\n",
    "###     Submitted By: <u>KOAY</u> SENG TIAN<br>Email: sengtian@yahoo.com\n"
   ]
  },
  {
   "cell_type": "code",
   "execution_count": 1,
   "metadata": {},
   "outputs": [
    {
     "name": "stderr",
     "output_type": "stream",
     "text": [
      "Using TensorFlow backend.\n"
     ]
    }
   ],
   "source": [
    "# TIPP - AAI Assignment (Deep Learning Fundamentals)\n",
    "# Date Due: 21February 2020\n",
    "# Submited By: KOAY SENG TIAN\n",
    "# Email: sengtian@yahoo.com\n",
    "#\n",
    "# GitHub: https://github.com/koayst/rp_deeplearning_assignment\n",
    "#\n",
    "# Note: source of below statement => sonar.names\n",
    "# https://archive.ics.uci.edu/ml/datasets/Connectionist+Bench+%28Sonar%2C+Mines+vs.+Rocks%29\n",
    "# Gorman and Sejnowski further report that a nearest neighbor classifier on\n",
    "# the same data gave an 82.7% probability of correct classification.\n",
    "\n",
    "from keras import models\n",
    "from keras import layers\n",
    "from keras import losses\n",
    "from keras.optimizers import SGD\n",
    "\n",
    "import matplotlib.pyplot as plt\n",
    "from matplotlib.pyplot import xticks\n",
    "\n",
    "from sklearn.preprocessing import LabelEncoder\n",
    "from sklearn.preprocessing import StandardScaler, MinMaxScaler\n",
    "from sklearn.model_selection import train_test_split\n",
    "\n",
    "import numpy as np\n",
    "import os\n",
    "import pandas as pd\n",
    "\n",
    "pd.set_option('display.max_rows', 210)\n",
    "\n",
    "# for reproducibility\n",
    "np.random.seed(1337)\n",
    "\n",
    "# verbose mode - 0=show little, 1=show more like charts\n",
    "#verbose=0\n",
    "verbose=1"
   ]
  },
  {
   "cell_type": "code",
   "execution_count": 2,
   "metadata": {},
   "outputs": [],
   "source": [
    "def load_data():\n",
    "    filedir = os.path.join(os.getcwd(), 'data')\n",
    "    mines_filename = 'sonar.mines'\n",
    "    rocks_filename = 'sonar.rocks'\n",
    "    sonar_filename = 'sonar.all-data'\n",
    "\n",
    "    # load the data file\n",
    "    file = os.path.join(filedir, sonar_filename)\n",
    "    df = pd.read_csv(file, sep=',', header=None)\n",
    "    \n",
    "    # create the header for the dataframe\n",
    "    # the header starts with 'ANG' followed by a number\n",
    "    header = [f\"ANG{x:02d}\" for x in range(0, df.shape[1])]\n",
    "    df.columns = header\n",
    "    \n",
    "    return df"
   ]
  },
  {
   "cell_type": "code",
   "execution_count": 3,
   "metadata": {},
   "outputs": [],
   "source": [
    "def exploratory_data_analysis(df):\n",
    "    print('Any null ?', end=' ')\n",
    "    print(df.isnull().values.any())\n",
    "    print()\n",
    "    print('NULL count in each column:')\n",
    "    print(df.isnull().sum())\n",
    "    print()\n",
    "    print('Any NaN ?', end=' ')\n",
    "    print(sonar_df.isna().any().any())\n",
    "    print()\n",
    "    print('ZERO count in each column:')\n",
    "    # columns 42 to 59 have 0 values, but it is still OK\n",
    "    # as the document said 'each pattern is a set of 60 \n",
    "    # numbers in the range 0.0 to 1.0 [sonar.names]\n",
    "    print(df.eq(0).sum())\n",
    "    print()\n",
    "    \n",
    "    # True if the dtype is object (categorical), otherwise False\n",
    "    mask = sonar_df.dtypes == np.object\n",
    "    # Extract column names that are categorical\n",
    "    categorical_cols = sonar_df.columns[mask]\n",
    "    print('What are the categorical column(s)?', end=' ')\n",
    "    print(categorical_cols)\n",
    "    print()\n",
    "   \n",
    "    # Extract categorical data\n",
    "    categorical_data = sonar_df.select_dtypes(include=['object']).copy()\n",
    "    \n",
    "    # Count the number of cateory for each column\n",
    "    print('Unique value count of categorical columns:')\n",
    "    unique_values_counts = (categorical_data.apply(lambda x: x.nunique()).sort_values(ascending=False))\n",
    "    print(unique_values_counts)\n",
    "    print()\n",
    "    \n",
    "    print('Unique value of categorical columns:')\n",
    "    print(categorical_data.apply(pd.Series.value_counts))"
   ]
  },
  {
   "cell_type": "code",
   "execution_count": 4,
   "metadata": {},
   "outputs": [],
   "source": [
    "def charts(df):\n",
    "    df.plot.box(figsize=(12,7))\n",
    "    plt.xticks(np.arange(0, 61, 5.0), [f\"ANG{x:02d}\" for x in range(0, 61, 5)], rotation=45)\n",
    "    plt.title('Boxplot for all 60 Angles')\n",
    "    plt.show()\n",
    "    "
   ]
  },
  {
   "cell_type": "code",
   "execution_count": 5,
   "metadata": {
    "scrolled": false
   },
   "outputs": [
    {
     "data": {
      "text/plain": [
       "(208, 61)"
      ]
     },
     "execution_count": 5,
     "metadata": {},
     "output_type": "execute_result"
    },
    {
     "name": "stdout",
     "output_type": "stream",
     "text": [
      "    ANG00   ANG01   ANG02   ANG03   ANG04   ANG05   ANG06   ANG07   ANG08  \\\n",
      "0  0.0200  0.0371  0.0428  0.0207  0.0954  0.0986  0.1539  0.1601  0.3109   \n",
      "1  0.0453  0.0523  0.0843  0.0689  0.1183  0.2583  0.2156  0.3481  0.3337   \n",
      "2  0.0262  0.0582  0.1099  0.1083  0.0974  0.2280  0.2431  0.3771  0.5598   \n",
      "3  0.0100  0.0171  0.0623  0.0205  0.0205  0.0368  0.1098  0.1276  0.0598   \n",
      "4  0.0762  0.0666  0.0481  0.0394  0.0590  0.0649  0.1209  0.2467  0.3564   \n",
      "\n",
      "    ANG09  ...   ANG51   ANG52   ANG53   ANG54   ANG55   ANG56   ANG57  \\\n",
      "0  0.2111  ...  0.0027  0.0065  0.0159  0.0072  0.0167  0.0180  0.0084   \n",
      "1  0.2872  ...  0.0084  0.0089  0.0048  0.0094  0.0191  0.0140  0.0049   \n",
      "2  0.6194  ...  0.0232  0.0166  0.0095  0.0180  0.0244  0.0316  0.0164   \n",
      "3  0.1264  ...  0.0121  0.0036  0.0150  0.0085  0.0073  0.0050  0.0044   \n",
      "4  0.4459  ...  0.0031  0.0054  0.0105  0.0110  0.0015  0.0072  0.0048   \n",
      "\n",
      "    ANG58   ANG59  ANG60  \n",
      "0  0.0090  0.0032      R  \n",
      "1  0.0052  0.0044      R  \n",
      "2  0.0095  0.0078      R  \n",
      "3  0.0040  0.0117      R  \n",
      "4  0.0107  0.0094      R  \n",
      "\n",
      "[5 rows x 61 columns]\n",
      "      ANG00   ANG01   ANG02   ANG03   ANG04   ANG05   ANG06   ANG07   ANG08  \\\n",
      "203  0.0187  0.0346  0.0168  0.0177  0.0393  0.1630  0.2028  0.1694  0.2328   \n",
      "204  0.0323  0.0101  0.0298  0.0564  0.0760  0.0958  0.0990  0.1018  0.1030   \n",
      "205  0.0522  0.0437  0.0180  0.0292  0.0351  0.1171  0.1257  0.1178  0.1258   \n",
      "206  0.0303  0.0353  0.0490  0.0608  0.0167  0.1354  0.1465  0.1123  0.1945   \n",
      "207  0.0260  0.0363  0.0136  0.0272  0.0214  0.0338  0.0655  0.1400  0.1843   \n",
      "\n",
      "      ANG09  ...   ANG51   ANG52   ANG53   ANG54   ANG55   ANG56   ANG57  \\\n",
      "203  0.2684  ...  0.0116  0.0098  0.0199  0.0033  0.0101  0.0065  0.0115   \n",
      "204  0.2154  ...  0.0061  0.0093  0.0135  0.0063  0.0063  0.0034  0.0032   \n",
      "205  0.2529  ...  0.0160  0.0029  0.0051  0.0062  0.0089  0.0140  0.0138   \n",
      "206  0.2354  ...  0.0086  0.0046  0.0126  0.0036  0.0035  0.0034  0.0079   \n",
      "207  0.2354  ...  0.0146  0.0129  0.0047  0.0039  0.0061  0.0040  0.0036   \n",
      "\n",
      "      ANG58   ANG59  ANG60  \n",
      "203  0.0193  0.0157      M  \n",
      "204  0.0062  0.0067      M  \n",
      "205  0.0077  0.0031      M  \n",
      "206  0.0036  0.0048      M  \n",
      "207  0.0061  0.0115      M  \n",
      "\n",
      "[5 rows x 61 columns]\n",
      "<class 'pandas.core.frame.DataFrame'>\n",
      "RangeIndex: 208 entries, 0 to 207\n",
      "Data columns (total 61 columns):\n",
      " #   Column  Non-Null Count  Dtype  \n",
      "---  ------  --------------  -----  \n",
      " 0   ANG00   208 non-null    float64\n",
      " 1   ANG01   208 non-null    float64\n",
      " 2   ANG02   208 non-null    float64\n",
      " 3   ANG03   208 non-null    float64\n",
      " 4   ANG04   208 non-null    float64\n",
      " 5   ANG05   208 non-null    float64\n",
      " 6   ANG06   208 non-null    float64\n",
      " 7   ANG07   208 non-null    float64\n",
      " 8   ANG08   208 non-null    float64\n",
      " 9   ANG09   208 non-null    float64\n",
      " 10  ANG10   208 non-null    float64\n",
      " 11  ANG11   208 non-null    float64\n",
      " 12  ANG12   208 non-null    float64\n",
      " 13  ANG13   208 non-null    float64\n",
      " 14  ANG14   208 non-null    float64\n",
      " 15  ANG15   208 non-null    float64\n",
      " 16  ANG16   208 non-null    float64\n",
      " 17  ANG17   208 non-null    float64\n",
      " 18  ANG18   208 non-null    float64\n",
      " 19  ANG19   208 non-null    float64\n",
      " 20  ANG20   208 non-null    float64\n",
      " 21  ANG21   208 non-null    float64\n",
      " 22  ANG22   208 non-null    float64\n",
      " 23  ANG23   208 non-null    float64\n",
      " 24  ANG24   208 non-null    float64\n",
      " 25  ANG25   208 non-null    float64\n",
      " 26  ANG26   208 non-null    float64\n",
      " 27  ANG27   208 non-null    float64\n",
      " 28  ANG28   208 non-null    float64\n",
      " 29  ANG29   208 non-null    float64\n",
      " 30  ANG30   208 non-null    float64\n",
      " 31  ANG31   208 non-null    float64\n",
      " 32  ANG32   208 non-null    float64\n",
      " 33  ANG33   208 non-null    float64\n",
      " 34  ANG34   208 non-null    float64\n",
      " 35  ANG35   208 non-null    float64\n",
      " 36  ANG36   208 non-null    float64\n",
      " 37  ANG37   208 non-null    float64\n",
      " 38  ANG38   208 non-null    float64\n",
      " 39  ANG39   208 non-null    float64\n",
      " 40  ANG40   208 non-null    float64\n",
      " 41  ANG41   208 non-null    float64\n",
      " 42  ANG42   208 non-null    float64\n",
      " 43  ANG43   208 non-null    float64\n",
      " 44  ANG44   208 non-null    float64\n",
      " 45  ANG45   208 non-null    float64\n",
      " 46  ANG46   208 non-null    float64\n",
      " 47  ANG47   208 non-null    float64\n",
      " 48  ANG48   208 non-null    float64\n",
      " 49  ANG49   208 non-null    float64\n",
      " 50  ANG50   208 non-null    float64\n",
      " 51  ANG51   208 non-null    float64\n",
      " 52  ANG52   208 non-null    float64\n",
      " 53  ANG53   208 non-null    float64\n",
      " 54  ANG54   208 non-null    float64\n",
      " 55  ANG55   208 non-null    float64\n",
      " 56  ANG56   208 non-null    float64\n",
      " 57  ANG57   208 non-null    float64\n",
      " 58  ANG58   208 non-null    float64\n",
      " 59  ANG59   208 non-null    float64\n",
      " 60  ANG60   208 non-null    object \n",
      "dtypes: float64(60), object(1)\n",
      "memory usage: 99.2+ KB\n",
      "None\n"
     ]
    },
    {
     "data": {
      "image/png": "[encoded data removed]",
      "text/plain": [
       "<Figure size 864x504 with 1 Axes>"
      ]
     },
     "metadata": {
      "needs_background": "light"
     },
     "output_type": "display_data"
    }
   ],
   "source": [
    "sonar_df = load_data()\n",
    "sonar_df.shape\n",
    "\n",
    "if verbose==1:\n",
    "    print(sonar_df.head())\n",
    "    print(sonar_df.tail())\n",
    "    print(sonar_df.info())\n",
    "\n",
    "    charts(sonar_df)"
   ]
  },
  {
   "cell_type": "code",
   "execution_count": 6,
   "metadata": {
    "scrolled": false
   },
   "outputs": [
    {
     "name": "stdout",
     "output_type": "stream",
     "text": [
      "Any null ? False\n",
      "\n",
      "NULL count in each column:\n",
      "ANG00    0\n",
      "ANG01    0\n",
      "ANG02    0\n",
      "ANG03    0\n",
      "ANG04    0\n",
      "ANG05    0\n",
      "ANG06    0\n",
      "ANG07    0\n",
      "ANG08    0\n",
      "ANG09    0\n",
      "ANG10    0\n",
      "ANG11    0\n",
      "ANG12    0\n",
      "ANG13    0\n",
      "ANG14    0\n",
      "ANG15    0\n",
      "ANG16    0\n",
      "ANG17    0\n",
      "ANG18    0\n",
      "ANG19    0\n",
      "ANG20    0\n",
      "ANG21    0\n",
      "ANG22    0\n",
      "ANG23    0\n",
      "ANG24    0\n",
      "ANG25    0\n",
      "ANG26    0\n",
      "ANG27    0\n",
      "ANG28    0\n",
      "ANG29    0\n",
      "ANG30    0\n",
      "ANG31    0\n",
      "ANG32    0\n",
      "ANG33    0\n",
      "ANG34    0\n",
      "ANG35    0\n",
      "ANG36    0\n",
      "ANG37    0\n",
      "ANG38    0\n",
      "ANG39    0\n",
      "ANG40    0\n",
      "ANG41    0\n",
      "ANG42    0\n",
      "ANG43    0\n",
      "ANG44    0\n",
      "ANG45    0\n",
      "ANG46    0\n",
      "ANG47    0\n",
      "ANG48    0\n",
      "ANG49    0\n",
      "ANG50    0\n",
      "ANG51    0\n",
      "ANG52    0\n",
      "ANG53    0\n",
      "ANG54    0\n",
      "ANG55    0\n",
      "ANG56    0\n",
      "ANG57    0\n",
      "ANG58    0\n",
      "ANG59    0\n",
      "ANG60    0\n",
      "dtype: int64\n",
      "\n",
      "Any NaN ? False\n",
      "\n",
      "ZERO count in each column:\n",
      "ANG00    0\n",
      "ANG01    0\n",
      "ANG02    0\n",
      "ANG03    0\n",
      "ANG04    0\n",
      "ANG05    0\n",
      "ANG06    0\n",
      "ANG07    0\n",
      "ANG08    0\n",
      "ANG09    0\n",
      "ANG10    0\n",
      "ANG11    0\n",
      "ANG12    0\n",
      "ANG13    0\n",
      "ANG14    0\n",
      "ANG15    0\n",
      "ANG16    0\n",
      "ANG17    0\n",
      "ANG18    0\n",
      "ANG19    0\n",
      "ANG20    0\n",
      "ANG21    0\n",
      "ANG22    0\n",
      "ANG23    0\n",
      "ANG24    0\n",
      "ANG25    0\n",
      "ANG26    0\n",
      "ANG27    0\n",
      "ANG28    0\n",
      "ANG29    0\n",
      "ANG30    0\n",
      "ANG31    0\n",
      "ANG32    0\n",
      "ANG33    0\n",
      "ANG34    0\n",
      "ANG35    0\n",
      "ANG36    0\n",
      "ANG37    0\n",
      "ANG38    0\n",
      "ANG39    0\n",
      "ANG40    0\n",
      "ANG41    0\n",
      "ANG42    1\n",
      "ANG43    1\n",
      "ANG44    1\n",
      "ANG45    1\n",
      "ANG46    1\n",
      "ANG47    1\n",
      "ANG48    1\n",
      "ANG49    1\n",
      "ANG50    1\n",
      "ANG51    0\n",
      "ANG52    0\n",
      "ANG53    0\n",
      "ANG54    0\n",
      "ANG55    0\n",
      "ANG56    0\n",
      "ANG57    0\n",
      "ANG58    0\n",
      "ANG59    0\n",
      "ANG60    0\n",
      "dtype: int64\n",
      "\n",
      "What are the categorical column(s)? Index(['ANG60'], dtype='object')\n",
      "\n",
      "Unique value count of categorical columns:\n",
      "ANG60    2\n",
      "dtype: int64\n",
      "\n",
      "Unique value of categorical columns:\n",
      "   ANG60\n",
      "M    111\n",
      "R     97\n"
     ]
    }
   ],
   "source": [
    "if verbose==1:\n",
    "    exploratory_data_analysis(sonar_df)\n"
   ]
  },
  {
   "cell_type": "code",
   "execution_count": 7,
   "metadata": {},
   "outputs": [],
   "source": [
    "X = sonar_df.loc[:, sonar_df.columns != 'ANG60'].copy()\n",
    "y = sonar_df.loc[:, 'ANG60'].copy()\n"
   ]
  },
  {
   "cell_type": "code",
   "execution_count": 8,
   "metadata": {},
   "outputs": [
    {
     "data": {
      "text/plain": [
       "StandardScaler(copy=True, with_mean=True, with_std=True)"
      ]
     },
     "execution_count": 8,
     "metadata": {},
     "output_type": "execute_result"
    }
   ],
   "source": [
    "# perform label encoding on Y\n",
    "lbl_encoder = LabelEncoder()\n",
    "y_encoded = lbl_encoder.fit_transform(y)\n",
    "\n",
    "X_train, X_test, y_train, y_test = train_test_split(X, y_encoded, test_size=0.2, stratify=y_encoded)\n",
    "\n",
    "# standard scaling\n",
    "std_scaler = StandardScaler()\n",
    "std_scaler.fit(X_train)\n",
    "X_train = std_scaler.transform(X_train)\n",
    "X_test = std_scaler.transform (X_test)\n"
   ]
  },
  {
   "cell_type": "code",
   "execution_count": 9,
   "metadata": {},
   "outputs": [
    {
     "name": "stdout",
     "output_type": "stream",
     "text": [
      "WARNING:tensorflow:From C:\\Users\\SengTian\\Anaconda3\\envs\\tf1.15\\lib\\site-packages\\keras\\backend\\tensorflow_backend.py:74: The name tf.get_default_graph is deprecated. Please use tf.compat.v1.get_default_graph instead.\n",
      "\n",
      "WARNING:tensorflow:From C:\\Users\\SengTian\\Anaconda3\\envs\\tf1.15\\lib\\site-packages\\keras\\backend\\tensorflow_backend.py:517: The name tf.placeholder is deprecated. Please use tf.compat.v1.placeholder instead.\n",
      "\n",
      "WARNING:tensorflow:From C:\\Users\\SengTian\\Anaconda3\\envs\\tf1.15\\lib\\site-packages\\keras\\backend\\tensorflow_backend.py:4138: The name tf.random_uniform is deprecated. Please use tf.random.uniform instead.\n",
      "\n"
     ]
    }
   ],
   "source": [
    "# build the Artifical Neuro Network\n",
    "network = models.Sequential()\n",
    "network.add(layers.Dense(32, activation='relu', input_shape=(60,)))\n",
    "network.add(layers.Dense(1, activation='sigmoid'))"
   ]
  },
  {
   "cell_type": "code",
   "execution_count": 10,
   "metadata": {},
   "outputs": [
    {
     "name": "stdout",
     "output_type": "stream",
     "text": [
      "WARNING:tensorflow:From C:\\Users\\SengTian\\Anaconda3\\envs\\tf1.15\\lib\\site-packages\\keras\\optimizers.py:790: The name tf.train.Optimizer is deprecated. Please use tf.compat.v1.train.Optimizer instead.\n",
      "\n",
      "WARNING:tensorflow:From C:\\Users\\SengTian\\Anaconda3\\envs\\tf1.15\\lib\\site-packages\\keras\\backend\\tensorflow_backend.py:3376: The name tf.log is deprecated. Please use tf.math.log instead.\n",
      "\n",
      "WARNING:tensorflow:From C:\\Users\\SengTian\\Anaconda3\\envs\\tf1.15\\lib\\site-packages\\tensorflow_core\\python\\ops\\nn_impl.py:183: where (from tensorflow.python.ops.array_ops) is deprecated and will be removed in a future version.\n",
      "Instructions for updating:\n",
      "Use tf.where in 2.0, which has the same broadcast rule as np.where\n",
      "_________________________________________________________________\n",
      "Layer (type)                 Output Shape              Param #   \n",
      "=================================================================\n",
      "dense_1 (Dense)              (None, 32)                1952      \n",
      "_________________________________________________________________\n",
      "dense_2 (Dense)              (None, 1)                 33        \n",
      "=================================================================\n",
      "Total params: 1,985\n",
      "Trainable params: 1,985\n",
      "Non-trainable params: 0\n",
      "_________________________________________________________________\n"
     ]
    }
   ],
   "source": [
    "# use stochastic gradient descent as optimizer\n",
    "sgd = SGD(lr = 0.01, momentum = 0.8, decay = 0.01, nesterov = True)\n",
    "network.compile(optimizer=sgd, loss='binary_crossentropy', metrics=['accuracy'])\n",
    "\n",
    "network.summary()"
   ]
  },
  {
   "cell_type": "code",
   "execution_count": 11,
   "metadata": {
    "scrolled": false
   },
   "outputs": [
    {
     "name": "stdout",
     "output_type": "stream",
     "text": [
      "WARNING:tensorflow:From C:\\Users\\SengTian\\Anaconda3\\envs\\tf1.15\\lib\\site-packages\\keras\\backend\\tensorflow_backend.py:986: The name tf.assign_add is deprecated. Please use tf.compat.v1.assign_add instead.\n",
      "\n",
      "WARNING:tensorflow:From C:\\Users\\SengTian\\Anaconda3\\envs\\tf1.15\\lib\\site-packages\\keras\\backend\\tensorflow_backend.py:973: The name tf.assign is deprecated. Please use tf.compat.v1.assign instead.\n",
      "\n",
      "WARNING:tensorflow:From C:\\Users\\SengTian\\Anaconda3\\envs\\tf1.15\\lib\\site-packages\\keras\\backend\\tensorflow_backend.py:2741: The name tf.Session is deprecated. Please use tf.compat.v1.Session instead.\n",
      "\n",
      "Train on 132 samples, validate on 34 samples\n",
      "Epoch 1/50\n",
      "WARNING:tensorflow:From C:\\Users\\SengTian\\Anaconda3\\envs\\tf1.15\\lib\\site-packages\\keras\\backend\\tensorflow_backend.py:174: The name tf.get_default_session is deprecated. Please use tf.compat.v1.get_default_session instead.\n",
      "\n",
      "WARNING:tensorflow:From C:\\Users\\SengTian\\Anaconda3\\envs\\tf1.15\\lib\\site-packages\\keras\\backend\\tensorflow_backend.py:181: The name tf.ConfigProto is deprecated. Please use tf.compat.v1.ConfigProto instead.\n",
      "\n",
      "WARNING:tensorflow:From C:\\Users\\SengTian\\Anaconda3\\envs\\tf1.15\\lib\\site-packages\\keras\\backend\\tensorflow_backend.py:190: The name tf.global_variables is deprecated. Please use tf.compat.v1.global_variables instead.\n",
      "\n",
      "WARNING:tensorflow:From C:\\Users\\SengTian\\Anaconda3\\envs\\tf1.15\\lib\\site-packages\\keras\\backend\\tensorflow_backend.py:199: The name tf.is_variable_initialized is deprecated. Please use tf.compat.v1.is_variable_initialized instead.\n",
      "\n",
      "WARNING:tensorflow:From C:\\Users\\SengTian\\Anaconda3\\envs\\tf1.15\\lib\\site-packages\\keras\\backend\\tensorflow_backend.py:206: The name tf.variables_initializer is deprecated. Please use tf.compat.v1.variables_initializer instead.\n",
      "\n",
      "132/132 [==============================] - 0s 3ms/step - loss: 0.9877 - acc: 0.4545 - val_loss: 0.8109 - val_acc: 0.4412\n",
      "Epoch 2/50\n",
      "132/132 [==============================] - 0s 68us/step - loss: 0.7714 - acc: 0.5076 - val_loss: 0.6433 - val_acc: 0.6471\n",
      "Epoch 3/50\n",
      "132/132 [==============================] - 0s 76us/step - loss: 0.6456 - acc: 0.6212 - val_loss: 0.5561 - val_acc: 0.6471\n",
      "Epoch 4/50\n",
      "132/132 [==============================] - 0s 98us/step - loss: 0.5801 - acc: 0.6818 - val_loss: 0.5086 - val_acc: 0.7353\n",
      "Epoch 5/50\n",
      "132/132 [==============================] - 0s 114us/step - loss: 0.5411 - acc: 0.7197 - val_loss: 0.4820 - val_acc: 0.7059\n",
      "Epoch 6/50\n",
      "132/132 [==============================] - 0s 106us/step - loss: 0.5135 - acc: 0.7500 - val_loss: 0.4599 - val_acc: 0.7353\n",
      "Epoch 7/50\n",
      "132/132 [==============================] - 0s 106us/step - loss: 0.4904 - acc: 0.7727 - val_loss: 0.4431 - val_acc: 0.8235\n",
      "Epoch 8/50\n",
      "132/132 [==============================] - 0s 83us/step - loss: 0.4715 - acc: 0.8030 - val_loss: 0.4296 - val_acc: 0.8235\n",
      "Epoch 9/50\n",
      "132/132 [==============================] - 0s 83us/step - loss: 0.4546 - acc: 0.8182 - val_loss: 0.4174 - val_acc: 0.8235\n",
      "Epoch 10/50\n",
      "132/132 [==============================] - 0s 83us/step - loss: 0.4404 - acc: 0.8182 - val_loss: 0.4077 - val_acc: 0.8235\n",
      "Epoch 11/50\n",
      "132/132 [==============================] - 0s 91us/step - loss: 0.4256 - acc: 0.8258 - val_loss: 0.3992 - val_acc: 0.8235\n",
      "Epoch 12/50\n",
      "132/132 [==============================] - 0s 91us/step - loss: 0.4129 - acc: 0.8333 - val_loss: 0.3915 - val_acc: 0.8235\n",
      "Epoch 13/50\n",
      "132/132 [==============================] - 0s 121us/step - loss: 0.4022 - acc: 0.8561 - val_loss: 0.3849 - val_acc: 0.8824\n",
      "Epoch 14/50\n",
      "132/132 [==============================] - 0s 99us/step - loss: 0.3916 - acc: 0.8636 - val_loss: 0.3785 - val_acc: 0.8824\n",
      "Epoch 15/50\n",
      "132/132 [==============================] - 0s 98us/step - loss: 0.3824 - acc: 0.8939 - val_loss: 0.3726 - val_acc: 0.8824\n",
      "Epoch 16/50\n",
      "132/132 [==============================] - 0s 76us/step - loss: 0.3734 - acc: 0.8939 - val_loss: 0.3673 - val_acc: 0.8824\n",
      "Epoch 17/50\n",
      "132/132 [==============================] - 0s 98us/step - loss: 0.3648 - acc: 0.8939 - val_loss: 0.3624 - val_acc: 0.9118\n",
      "Epoch 18/50\n",
      "132/132 [==============================] - 0s 114us/step - loss: 0.3573 - acc: 0.9015 - val_loss: 0.3575 - val_acc: 0.8824\n",
      "Epoch 19/50\n",
      "132/132 [==============================] - 0s 91us/step - loss: 0.3499 - acc: 0.9015 - val_loss: 0.3535 - val_acc: 0.8824\n",
      "Epoch 20/50\n",
      "132/132 [==============================] - 0s 83us/step - loss: 0.3433 - acc: 0.9167 - val_loss: 0.3505 - val_acc: 0.8824\n",
      "Epoch 21/50\n",
      "132/132 [==============================] - 0s 76us/step - loss: 0.3373 - acc: 0.9167 - val_loss: 0.3480 - val_acc: 0.8824\n",
      "Epoch 22/50\n",
      "132/132 [==============================] - 0s 106us/step - loss: 0.3308 - acc: 0.9242 - val_loss: 0.3455 - val_acc: 0.8824\n",
      "Epoch 23/50\n",
      "132/132 [==============================] - 0s 98us/step - loss: 0.3246 - acc: 0.9318 - val_loss: 0.3430 - val_acc: 0.8824\n",
      "Epoch 24/50\n",
      "132/132 [==============================] - 0s 83us/step - loss: 0.3197 - acc: 0.9318 - val_loss: 0.3409 - val_acc: 0.8824\n",
      "Epoch 25/50\n",
      "132/132 [==============================] - 0s 83us/step - loss: 0.3143 - acc: 0.9318 - val_loss: 0.3384 - val_acc: 0.9118\n",
      "Epoch 26/50\n",
      "132/132 [==============================] - 0s 76us/step - loss: 0.3091 - acc: 0.9394 - val_loss: 0.3361 - val_acc: 0.9118\n",
      "Epoch 27/50\n",
      "132/132 [==============================] - 0s 91us/step - loss: 0.3041 - acc: 0.9394 - val_loss: 0.3336 - val_acc: 0.9118\n",
      "Epoch 28/50\n",
      "132/132 [==============================] - 0s 83us/step - loss: 0.2993 - acc: 0.9394 - val_loss: 0.3311 - val_acc: 0.9118\n",
      "Epoch 29/50\n",
      "132/132 [==============================] - 0s 91us/step - loss: 0.2951 - acc: 0.9470 - val_loss: 0.3290 - val_acc: 0.9118\n",
      "Epoch 30/50\n",
      "132/132 [==============================] - 0s 98us/step - loss: 0.2906 - acc: 0.9470 - val_loss: 0.3266 - val_acc: 0.9118\n",
      "Epoch 31/50\n",
      "132/132 [==============================] - 0s 76us/step - loss: 0.2863 - acc: 0.9545 - val_loss: 0.3247 - val_acc: 0.9118\n",
      "Epoch 32/50\n",
      "132/132 [==============================] - 0s 106us/step - loss: 0.2828 - acc: 0.9545 - val_loss: 0.3228 - val_acc: 0.9118\n",
      "Epoch 33/50\n",
      "132/132 [==============================] - 0s 76us/step - loss: 0.2791 - acc: 0.9470 - val_loss: 0.3211 - val_acc: 0.9118\n",
      "Epoch 34/50\n",
      "132/132 [==============================] - 0s 98us/step - loss: 0.2746 - acc: 0.9545 - val_loss: 0.3191 - val_acc: 0.9118\n",
      "Epoch 35/50\n",
      "132/132 [==============================] - 0s 68us/step - loss: 0.2714 - acc: 0.9545 - val_loss: 0.3174 - val_acc: 0.9118\n",
      "Epoch 36/50\n",
      "132/132 [==============================] - 0s 76us/step - loss: 0.2679 - acc: 0.9545 - val_loss: 0.3161 - val_acc: 0.9118\n",
      "Epoch 37/50\n",
      "132/132 [==============================] - 0s 91us/step - loss: 0.2644 - acc: 0.9545 - val_loss: 0.3154 - val_acc: 0.9118\n",
      "Epoch 38/50\n",
      "132/132 [==============================] - 0s 83us/step - loss: 0.2610 - acc: 0.9545 - val_loss: 0.3143 - val_acc: 0.9118\n",
      "Epoch 39/50\n",
      "132/132 [==============================] - 0s 80us/step - loss: 0.2580 - acc: 0.9545 - val_loss: 0.3131 - val_acc: 0.9118\n",
      "Epoch 40/50\n",
      "132/132 [==============================] - 0s 83us/step - loss: 0.2549 - acc: 0.9545 - val_loss: 0.3118 - val_acc: 0.9118\n",
      "Epoch 41/50\n",
      "132/132 [==============================] - 0s 125us/step - loss: 0.2519 - acc: 0.9545 - val_loss: 0.3101 - val_acc: 0.9118\n",
      "Epoch 42/50\n",
      "132/132 [==============================] - 0s 76us/step - loss: 0.2492 - acc: 0.9545 - val_loss: 0.3084 - val_acc: 0.9118\n",
      "Epoch 43/50\n",
      "132/132 [==============================] - 0s 98us/step - loss: 0.2464 - acc: 0.9545 - val_loss: 0.3070 - val_acc: 0.9118\n",
      "Epoch 44/50\n",
      "132/132 [==============================] - 0s 83us/step - loss: 0.2437 - acc: 0.9545 - val_loss: 0.3058 - val_acc: 0.9118\n",
      "Epoch 45/50\n",
      "132/132 [==============================] - 0s 82us/step - loss: 0.2411 - acc: 0.9545 - val_loss: 0.3045 - val_acc: 0.9118\n",
      "Epoch 46/50\n",
      "132/132 [==============================] - 0s 76us/step - loss: 0.2385 - acc: 0.9545 - val_loss: 0.3031 - val_acc: 0.9118\n",
      "Epoch 47/50\n",
      "132/132 [==============================] - 0s 83us/step - loss: 0.2359 - acc: 0.9545 - val_loss: 0.3021 - val_acc: 0.9118\n",
      "Epoch 48/50\n",
      "132/132 [==============================] - 0s 83us/step - loss: 0.2337 - acc: 0.9545 - val_loss: 0.3009 - val_acc: 0.9118\n",
      "Epoch 49/50\n"
     ]
    },
    {
     "name": "stdout",
     "output_type": "stream",
     "text": [
      "132/132 [==============================] - 0s 83us/step - loss: 0.2313 - acc: 0.9545 - val_loss: 0.2995 - val_acc: 0.9118\n",
      "Epoch 50/50\n",
      "132/132 [==============================] - 0s 76us/step - loss: 0.2289 - acc: 0.9545 - val_loss: 0.2986 - val_acc: 0.9118\n",
      "\n",
      "42/42 [==============================] - 0s 95us/step\n",
      "\n",
      "test_acc: 0.8809523837906974\n"
     ]
    }
   ],
   "source": [
    "history = network.fit(X_train, y_train, validation_split=0.2, epochs=50, batch_size=30, shuffle=True, verbose=1)\n",
    "\n",
    "print()\n",
    "test_loss, test_acc = network.evaluate(X_test, y_test)\n",
    "\n",
    "print()\n",
    "print('test_acc:', test_acc)"
   ]
  },
  {
   "cell_type": "code",
   "execution_count": 12,
   "metadata": {},
   "outputs": [],
   "source": [
    "# from the above, the test accuracy is ~88%\n",
    "\n",
    "history_dict = history.history\n",
    "loss_values = history_dict['loss']\n",
    "val_loss_values = history_dict['val_loss']\n",
    "\n",
    "acc_values = history_dict['acc']\n",
    "val_acc_values = history_dict['val_acc']\n",
    "\n",
    "epochs = range(1, len(loss_values) + 1)"
   ]
  },
  {
   "cell_type": "code",
   "execution_count": 13,
   "metadata": {},
   "outputs": [
    {
     "data": {
      "text/plain": [
       "[<matplotlib.lines.Line2D at 0x21757f77f08>]"
      ]
     },
     "execution_count": 13,
     "metadata": {},
     "output_type": "execute_result"
    },
    {
     "data": {
      "text/plain": [
       "[<matplotlib.lines.Line2D at 0x21757ff8c88>]"
      ]
     },
     "execution_count": 13,
     "metadata": {},
     "output_type": "execute_result"
    },
    {
     "data": {
      "text/plain": [
       "Text(0.5, 0, 'Epochs')"
      ]
     },
     "execution_count": 13,
     "metadata": {},
     "output_type": "execute_result"
    },
    {
     "data": {
      "text/plain": [
       "Text(0, 0.5, 'Loss')"
      ]
     },
     "execution_count": 13,
     "metadata": {},
     "output_type": "execute_result"
    },
    {
     "data": {
      "text/plain": [
       "<matplotlib.legend.Legend at 0x2175800e908>"
      ]
     },
     "execution_count": 13,
     "metadata": {},
     "output_type": "execute_result"
    },
    {
     "data": {
      "text/plain": [
       "[<matplotlib.lines.Line2D at 0x2175800a4c8>]"
      ]
     },
     "execution_count": 13,
     "metadata": {},
     "output_type": "execute_result"
    },
    {
     "data": {
      "text/plain": [
       "[<matplotlib.lines.Line2D at 0x2175800ac48>]"
      ]
     },
     "execution_count": 13,
     "metadata": {},
     "output_type": "execute_result"
    },
    {
     "data": {
      "text/plain": [
       "Text(0.5, 0, 'Epochs')"
      ]
     },
     "execution_count": 13,
     "metadata": {},
     "output_type": "execute_result"
    },
    {
     "data": {
      "text/plain": [
       "Text(0, 0.5, 'Loss')"
      ]
     },
     "execution_count": 13,
     "metadata": {},
     "output_type": "execute_result"
    },
    {
     "data": {
      "text/plain": [
       "<matplotlib.legend.Legend at 0x21757ff83c8>"
      ]
     },
     "execution_count": 13,
     "metadata": {},
     "output_type": "execute_result"
    },
    {
     "data": {
      "image/png": "[encoded data removed]",
      "text/plain": [
       "<Figure size 792x360 with 2 Axes>"
      ]
     },
     "metadata": {
      "needs_background": "light"
     },
     "output_type": "display_data"
    }
   ],
   "source": [
    "fig = plt.figure(figsize=(11,5))\n",
    "ax1 = fig.add_subplot(121)\n",
    "ax2 = fig.add_subplot(122)\n",
    "\n",
    "#draw a chart to show validation vs training losses\n",
    "ax1.plot(epochs, loss_values, 'r--', label='Training loss')\n",
    "ax1.plot(epochs, val_loss_values, 'b', label='Validation loss')\n",
    "ax1.title.set_text('Training and Validation Loss')\n",
    "ax1.set_xlabel('Epochs')\n",
    "ax1.set_ylabel('Loss')\n",
    "ax1.legend()\n",
    "\n",
    "# draw a chart to show validation vs training accuracy\n",
    "ax2.plot(epochs, acc_values, 'r--', label='Training acc')\n",
    "ax2.plot(epochs, val_acc_values, 'b', label='Validation acc')\n",
    "ax2.title.set_text('Training and Validation Accuracy')\n",
    "ax2.set_xlabel('Epochs')\n",
    "ax2.set_ylabel('Loss')\n",
    "ax2.legend()\n",
    "\n",
    "plt.show()\n"
   ]
  },
  {
   "cell_type": "code",
   "execution_count": null,
   "metadata": {},
   "outputs": [],
   "source": []
  }
 ],
 "metadata": {
  "kernelspec": {
   "display_name": "Python 3",
   "language": "python",
   "name": "python3"
  },
  "language_info": {
   "codemirror_mode": {
    "name": "ipython",
    "version": 3
   },
   "file_extension": ".py",
   "mimetype": "text/x-python",
   "name": "python",
   "nbconvert_exporter": "python",
   "pygments_lexer": "ipython3",
   "version": "3.7.6"
  }
 },
 "nbformat": 4,
 "nbformat_minor": 2
}
