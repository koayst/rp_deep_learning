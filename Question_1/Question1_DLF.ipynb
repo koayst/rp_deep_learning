{
 "cells": [
  {
   "cell_type": "markdown",
   "metadata": {},
   "source": [
    "<div style=\"width: 400px; height: 160px;\">\n",
    "    <img src=\"rplogo_small.png\" width=\"100%\" height=\"100%\" align=\"left\">\n",
    "</div>\n",
    "\n",
    "###     TIPP - AAI Assignement (Deep Learning Fundamentals)<br>Due Date: 26 February 2020\n",
    "###     Submitted By: <u>KOAY</u> SENG TIAN<br>Email: sengtian@yahoo.com\n"
   ]
  },
  {
   "cell_type": "code",
   "execution_count": 1,
   "metadata": {},
   "outputs": [
    {
     "name": "stderr",
     "output_type": "stream",
     "text": [
      "Using TensorFlow backend.\n"
     ]
    }
   ],
   "source": [
    "# TIPP - AAI Assignment (Deep Learning Fundamentals)\n",
    "# Date Due: 26 February 2020\n",
    "# Submited By: KOAY SENG TIAN\n",
    "# Email: sengtian@yahoo.com\n",
    "#\n",
    "# GitHub: https://github.com/koayst/rp_deeplearning_assignment\n",
    "#\n",
    "# Note: source of below statement => sonar.names\n",
    "# https://archive.ics.uci.edu/ml/datasets/Connectionist+Bench+%28Sonar%2C+Mines+vs.+Rocks%29\n",
    "# Gorman and Sejnowski further report that a nearest neighbor classifier on\n",
    "# the same data gave an 82.7% probability of correct classification.\n",
    "\n",
    "from keras import models\n",
    "from keras import layers\n",
    "from keras import losses\n",
    "from keras.callbacks import EarlyStopping\n",
    "from keras.optimizers import SGD\n",
    "from keras.utils import to_categorical\n",
    "\n",
    "import matplotlib.pyplot as plt\n",
    "from matplotlib.pyplot import xticks\n",
    "\n",
    "from sklearn.preprocessing import LabelEncoder, OneHotEncoder\n",
    "from sklearn.preprocessing import StandardScaler, MinMaxScaler\n",
    "from sklearn.model_selection import train_test_split\n",
    "\n",
    "import numpy as np\n",
    "import os\n",
    "import pandas as pd\n",
    "\n",
    "pd.set_option('display.max_rows', 220)\n",
    "\n",
    "# for reproducibility\n",
    "np.random.seed(1337)\n",
    "\n",
    "# verbose mode - 0=show little info, 1=show more info like charts\n",
    "#verbose=0\n",
    "verbose=1\n"
   ]
  },
  {
   "cell_type": "code",
   "execution_count": 2,
   "metadata": {},
   "outputs": [],
   "source": [
    "def load_data():\n",
    "    # the dataset files are stored under the 'data' directory\n",
    "    filedir = os.path.join(os.getcwd(), 'data')\n",
    "    mines_filename = 'sonar.mines'\n",
    "    rocks_filename = 'sonar.rocks'\n",
    "    sonar_filename = 'sonar.all-data'\n",
    "\n",
    "    # load the data file\n",
    "    file = os.path.join(filedir, sonar_filename)\n",
    "    df = pd.read_csv(file, sep=',', header=None)\n",
    "    \n",
    "    # create the header for the dataframe\n",
    "    # the header starts with 'A' followed by a number\n",
    "    header = [f\"A{x:02d}\" for x in range(1, df.shape[1])]\n",
    "    # the last column is named as 'C' as in 'Class'\n",
    "    header.append('C')\n",
    "    df.columns = header\n",
    "    \n",
    "    return df\n"
   ]
  },
  {
   "cell_type": "code",
   "execution_count": 3,
   "metadata": {},
   "outputs": [],
   "source": [
    "def exploratory_data_analysis(df):\n",
    "    print('Any null ?', end=' ')\n",
    "    print(df.isnull().values.any())\n",
    "    print()\n",
    "    print('NULL count in each column:')\n",
    "    print(df.isnull().sum())\n",
    "    print()\n",
    "    print('Any NaN ?', end=' ')\n",
    "    print(sonar_df.isna().any().any())\n",
    "    print()\n",
    "    print('ZERO count in each column:')\n",
    "    # columns 42 to 59 have 0 values, but it is still OK\n",
    "    # as the document said 'each pattern is a set of 60 \n",
    "    # numbers in the range 0.0 to 1.0 [file: sonar.names]\n",
    "    print(df.eq(0).sum())\n",
    "    print()\n",
    "    \n",
    "    # True if the dtype is object (categorical), otherwise False\n",
    "    mask = sonar_df.dtypes == np.object\n",
    "    # Extract column names that are categorical\n",
    "    categorical_cols = sonar_df.columns[mask]\n",
    "    print('What are the categorical column(s)?', end=' ')\n",
    "    print(categorical_cols)\n",
    "    print()\n",
    "   \n",
    "    # Extract categorical data\n",
    "    categorical_data = sonar_df.select_dtypes(include=['object']).copy()\n",
    "    \n",
    "    # Count the number of cateory for each column\n",
    "    print('Unique value count of categorical columns:')\n",
    "    unique_values_counts = (categorical_data.apply(lambda x: x.nunique()).sort_values(ascending=False))\n",
    "    print(unique_values_counts)\n",
    "    print()\n",
    "    \n",
    "    print('Unique value of categorical columns:')\n",
    "    print(categorical_data.apply(pd.Series.value_counts))\n",
    "    "
   ]
  },
  {
   "cell_type": "code",
   "execution_count": 4,
   "metadata": {},
   "outputs": [],
   "source": [
    "def charts(df):\n",
    "    df.plot.box(figsize=(12,7))\n",
    "    plt.xticks(np.arange(1, 60, 3), [f\"A{x:02d}\" for x in range(1, 60, 3)], rotation=45)\n",
    "    plt.title('Fig 1: Boxplot for A01 - A60 Angles')\n",
    "    plt.show()\n",
    "    "
   ]
  },
  {
   "cell_type": "code",
   "execution_count": 5,
   "metadata": {
    "scrolled": false
   },
   "outputs": [
    {
     "data": {
      "text/plain": [
       "(208, 61)"
      ]
     },
     "execution_count": 5,
     "metadata": {},
     "output_type": "execute_result"
    },
    {
     "name": "stdout",
     "output_type": "stream",
     "text": [
      "      A01     A02     A03     A04     A05     A06     A07     A08     A09  \\\n",
      "0  0.0200  0.0371  0.0428  0.0207  0.0954  0.0986  0.1539  0.1601  0.3109   \n",
      "1  0.0453  0.0523  0.0843  0.0689  0.1183  0.2583  0.2156  0.3481  0.3337   \n",
      "2  0.0262  0.0582  0.1099  0.1083  0.0974  0.2280  0.2431  0.3771  0.5598   \n",
      "3  0.0100  0.0171  0.0623  0.0205  0.0205  0.0368  0.1098  0.1276  0.0598   \n",
      "4  0.0762  0.0666  0.0481  0.0394  0.0590  0.0649  0.1209  0.2467  0.3564   \n",
      "\n",
      "      A10  ...     A52     A53     A54     A55     A56     A57     A58  \\\n",
      "0  0.2111  ...  0.0027  0.0065  0.0159  0.0072  0.0167  0.0180  0.0084   \n",
      "1  0.2872  ...  0.0084  0.0089  0.0048  0.0094  0.0191  0.0140  0.0049   \n",
      "2  0.6194  ...  0.0232  0.0166  0.0095  0.0180  0.0244  0.0316  0.0164   \n",
      "3  0.1264  ...  0.0121  0.0036  0.0150  0.0085  0.0073  0.0050  0.0044   \n",
      "4  0.4459  ...  0.0031  0.0054  0.0105  0.0110  0.0015  0.0072  0.0048   \n",
      "\n",
      "      A59     A60  C  \n",
      "0  0.0090  0.0032  R  \n",
      "1  0.0052  0.0044  R  \n",
      "2  0.0095  0.0078  R  \n",
      "3  0.0040  0.0117  R  \n",
      "4  0.0107  0.0094  R  \n",
      "\n",
      "[5 rows x 61 columns]\n",
      "        A01     A02     A03     A04     A05     A06     A07     A08     A09  \\\n",
      "203  0.0187  0.0346  0.0168  0.0177  0.0393  0.1630  0.2028  0.1694  0.2328   \n",
      "204  0.0323  0.0101  0.0298  0.0564  0.0760  0.0958  0.0990  0.1018  0.1030   \n",
      "205  0.0522  0.0437  0.0180  0.0292  0.0351  0.1171  0.1257  0.1178  0.1258   \n",
      "206  0.0303  0.0353  0.0490  0.0608  0.0167  0.1354  0.1465  0.1123  0.1945   \n",
      "207  0.0260  0.0363  0.0136  0.0272  0.0214  0.0338  0.0655  0.1400  0.1843   \n",
      "\n",
      "        A10  ...     A52     A53     A54     A55     A56     A57     A58  \\\n",
      "203  0.2684  ...  0.0116  0.0098  0.0199  0.0033  0.0101  0.0065  0.0115   \n",
      "204  0.2154  ...  0.0061  0.0093  0.0135  0.0063  0.0063  0.0034  0.0032   \n",
      "205  0.2529  ...  0.0160  0.0029  0.0051  0.0062  0.0089  0.0140  0.0138   \n",
      "206  0.2354  ...  0.0086  0.0046  0.0126  0.0036  0.0035  0.0034  0.0079   \n",
      "207  0.2354  ...  0.0146  0.0129  0.0047  0.0039  0.0061  0.0040  0.0036   \n",
      "\n",
      "        A59     A60  C  \n",
      "203  0.0193  0.0157  M  \n",
      "204  0.0062  0.0067  M  \n",
      "205  0.0077  0.0031  M  \n",
      "206  0.0036  0.0048  M  \n",
      "207  0.0061  0.0115  M  \n",
      "\n",
      "[5 rows x 61 columns]\n",
      "\n",
      "<class 'pandas.core.frame.DataFrame'>\n",
      "RangeIndex: 208 entries, 0 to 207\n",
      "Data columns (total 61 columns):\n",
      " #   Column  Non-Null Count  Dtype  \n",
      "---  ------  --------------  -----  \n",
      " 0   A01     208 non-null    float64\n",
      " 1   A02     208 non-null    float64\n",
      " 2   A03     208 non-null    float64\n",
      " 3   A04     208 non-null    float64\n",
      " 4   A05     208 non-null    float64\n",
      " 5   A06     208 non-null    float64\n",
      " 6   A07     208 non-null    float64\n",
      " 7   A08     208 non-null    float64\n",
      " 8   A09     208 non-null    float64\n",
      " 9   A10     208 non-null    float64\n",
      " 10  A11     208 non-null    float64\n",
      " 11  A12     208 non-null    float64\n",
      " 12  A13     208 non-null    float64\n",
      " 13  A14     208 non-null    float64\n",
      " 14  A15     208 non-null    float64\n",
      " 15  A16     208 non-null    float64\n",
      " 16  A17     208 non-null    float64\n",
      " 17  A18     208 non-null    float64\n",
      " 18  A19     208 non-null    float64\n",
      " 19  A20     208 non-null    float64\n",
      " 20  A21     208 non-null    float64\n",
      " 21  A22     208 non-null    float64\n",
      " 22  A23     208 non-null    float64\n",
      " 23  A24     208 non-null    float64\n",
      " 24  A25     208 non-null    float64\n",
      " 25  A26     208 non-null    float64\n",
      " 26  A27     208 non-null    float64\n",
      " 27  A28     208 non-null    float64\n",
      " 28  A29     208 non-null    float64\n",
      " 29  A30     208 non-null    float64\n",
      " 30  A31     208 non-null    float64\n",
      " 31  A32     208 non-null    float64\n",
      " 32  A33     208 non-null    float64\n",
      " 33  A34     208 non-null    float64\n",
      " 34  A35     208 non-null    float64\n",
      " 35  A36     208 non-null    float64\n",
      " 36  A37     208 non-null    float64\n",
      " 37  A38     208 non-null    float64\n",
      " 38  A39     208 non-null    float64\n",
      " 39  A40     208 non-null    float64\n",
      " 40  A41     208 non-null    float64\n",
      " 41  A42     208 non-null    float64\n",
      " 42  A43     208 non-null    float64\n",
      " 43  A44     208 non-null    float64\n",
      " 44  A45     208 non-null    float64\n",
      " 45  A46     208 non-null    float64\n",
      " 46  A47     208 non-null    float64\n",
      " 47  A48     208 non-null    float64\n",
      " 48  A49     208 non-null    float64\n",
      " 49  A50     208 non-null    float64\n",
      " 50  A51     208 non-null    float64\n",
      " 51  A52     208 non-null    float64\n",
      " 52  A53     208 non-null    float64\n",
      " 53  A54     208 non-null    float64\n",
      " 54  A55     208 non-null    float64\n",
      " 55  A56     208 non-null    float64\n",
      " 56  A57     208 non-null    float64\n",
      " 57  A58     208 non-null    float64\n",
      " 58  A59     208 non-null    float64\n",
      " 59  A60     208 non-null    float64\n",
      " 60  C       208 non-null    object \n",
      "dtypes: float64(60), object(1)\n",
      "memory usage: 99.2+ KB\n",
      "None\n",
      "\n",
      "     count      mean       std     min     max       25%      50%       75%\n",
      "A01  208.0  0.029164  0.022991  0.0015  0.1371  0.013350  0.02280  0.035550\n",
      "A02  208.0  0.038437  0.032960  0.0006  0.2339  0.016450  0.03080  0.047950\n",
      "A03  208.0  0.043832  0.038428  0.0015  0.3059  0.018950  0.03430  0.057950\n",
      "A04  208.0  0.053892  0.046528  0.0058  0.4264  0.024375  0.04405  0.064500\n",
      "A05  208.0  0.075202  0.055552  0.0067  0.4010  0.038050  0.06250  0.100275\n",
      "A06  208.0  0.104570  0.059105  0.0102  0.3823  0.067025  0.09215  0.134125\n",
      "A07  208.0  0.121747  0.061788  0.0033  0.3729  0.080900  0.10695  0.154000\n",
      "A08  208.0  0.134799  0.085152  0.0055  0.4590  0.080425  0.11210  0.169600\n",
      "A09  208.0  0.178003  0.118387  0.0075  0.6828  0.097025  0.15225  0.233425\n",
      "A10  208.0  0.208259  0.134416  0.0113  0.7106  0.111275  0.18240  0.268700\n",
      "A11  208.0  0.236013  0.132705  0.0289  0.7342  0.129250  0.22480  0.301650\n",
      "A12  208.0  0.250221  0.140072  0.0236  0.7060  0.133475  0.24905  0.331250\n",
      "A13  208.0  0.273305  0.140962  0.0184  0.7131  0.166125  0.26395  0.351250\n",
      "A14  208.0  0.296568  0.164474  0.0273  0.9970  0.175175  0.28110  0.386175\n",
      "A15  208.0  0.320201  0.205427  0.0031  1.0000  0.164625  0.28170  0.452925\n",
      "A16  208.0  0.378487  0.232650  0.0162  0.9988  0.196300  0.30470  0.535725\n",
      "A17  208.0  0.415983  0.263677  0.0349  1.0000  0.205850  0.30840  0.659425\n",
      "A18  208.0  0.452318  0.261529  0.0375  1.0000  0.242075  0.36830  0.679050\n",
      "A19  208.0  0.504812  0.257988  0.0494  1.0000  0.299075  0.43495  0.731400\n",
      "A20  208.0  0.563047  0.262653  0.0656  1.0000  0.350625  0.54250  0.809325\n",
      "A21  208.0  0.609060  0.257818  0.0512  1.0000  0.399725  0.61770  0.816975\n",
      "A22  208.0  0.624275  0.255883  0.0219  1.0000  0.406925  0.66490  0.831975\n",
      "A23  208.0  0.646975  0.250175  0.0563  1.0000  0.450225  0.69970  0.848575\n",
      "A24  208.0  0.672654  0.239116  0.0239  1.0000  0.540725  0.69850  0.872175\n",
      "A25  208.0  0.675424  0.244926  0.0240  1.0000  0.525800  0.72110  0.873725\n",
      "A26  208.0  0.699866  0.237228  0.0921  1.0000  0.544175  0.75450  0.893800\n",
      "A27  208.0  0.702155  0.245657  0.0481  1.0000  0.531900  0.74560  0.917100\n",
      "A28  208.0  0.694024  0.237189  0.0284  1.0000  0.534775  0.73190  0.900275\n",
      "A29  208.0  0.642074  0.240250  0.0144  1.0000  0.463700  0.68080  0.852125\n",
      "A30  208.0  0.580928  0.220749  0.0613  1.0000  0.411400  0.60715  0.735175\n",
      "A31  208.0  0.504475  0.213992  0.0482  0.9657  0.345550  0.49035  0.641950\n",
      "A32  208.0  0.439040  0.213237  0.0404  0.9306  0.281400  0.42960  0.580300\n",
      "A33  208.0  0.417220  0.206513  0.0477  1.0000  0.257875  0.39120  0.556125\n",
      "A34  208.0  0.403233  0.231242  0.0212  0.9647  0.217575  0.35105  0.596125\n",
      "A35  208.0  0.392571  0.259132  0.0223  1.0000  0.179375  0.31275  0.593350\n",
      "A36  208.0  0.384848  0.264121  0.0080  1.0000  0.154350  0.32115  0.556525\n",
      "A37  208.0  0.363807  0.239912  0.0351  0.9497  0.160100  0.30630  0.518900\n",
      "A38  208.0  0.339657  0.212973  0.0383  1.0000  0.174275  0.31270  0.440550\n",
      "A39  208.0  0.325800  0.199075  0.0371  0.9857  0.173975  0.28350  0.434900\n",
      "A40  208.0  0.311207  0.178662  0.0117  0.9297  0.186450  0.27805  0.424350\n",
      "A41  208.0  0.289252  0.171111  0.0360  0.8995  0.163100  0.25950  0.387525\n",
      "A42  208.0  0.278293  0.168728  0.0056  0.8246  0.158900  0.24510  0.384250\n",
      "A43  208.0  0.246542  0.138993  0.0000  0.7733  0.155200  0.22255  0.324525\n",
      "A44  208.0  0.214075  0.133291  0.0000  0.7762  0.126875  0.17770  0.271750\n",
      "A45  208.0  0.197232  0.151628  0.0000  0.7034  0.094475  0.14800  0.231550\n",
      "A46  208.0  0.160631  0.133938  0.0000  0.7292  0.068550  0.12135  0.200375\n",
      "A47  208.0  0.122453  0.086953  0.0000  0.5522  0.064250  0.10165  0.154425\n",
      "A48  208.0  0.091424  0.062417  0.0000  0.3339  0.045125  0.07810  0.120100\n",
      "A49  208.0  0.051929  0.035954  0.0000  0.1981  0.026350  0.04470  0.068525\n",
      "A50  208.0  0.020424  0.013665  0.0000  0.0825  0.011550  0.01790  0.025275\n",
      "A51  208.0  0.016069  0.012008  0.0000  0.1004  0.008425  0.01390  0.020825\n",
      "A52  208.0  0.013420  0.009634  0.0008  0.0709  0.007275  0.01140  0.016725\n",
      "A53  208.0  0.010709  0.007060  0.0005  0.0390  0.005075  0.00955  0.014900\n",
      "A54  208.0  0.010941  0.007301  0.0010  0.0352  0.005375  0.00930  0.014500\n",
      "A55  208.0  0.009290  0.007088  0.0006  0.0447  0.004150  0.00750  0.012100\n",
      "A56  208.0  0.008222  0.005736  0.0004  0.0394  0.004400  0.00685  0.010575\n",
      "A57  208.0  0.007820  0.005785  0.0003  0.0355  0.003700  0.00595  0.010425\n",
      "A58  208.0  0.007949  0.006470  0.0003  0.0440  0.003600  0.00580  0.010350\n",
      "A59  208.0  0.007941  0.006181  0.0001  0.0364  0.003675  0.00640  0.010325\n",
      "A60  208.0  0.006507  0.005031  0.0006  0.0439  0.003100  0.00530  0.008525\n",
      "\n"
     ]
    },
    {
     "data": {
      "image/png": "[encoded data removed]",
      "text/plain": [
       "<Figure size 864x504 with 1 Axes>"
      ]
     },
     "metadata": {
      "needs_background": "light"
     },
     "output_type": "display_data"
    }
   ],
   "source": [
    "# load the dataset and observe its shape\n",
    "sonar_df = load_data()\n",
    "sonar_df.shape\n",
    "\n",
    "if verbose==1:\n",
    "    print(sonar_df.head())\n",
    "    print(sonar_df.tail())\n",
    "    print()\n",
    "    print(sonar_df.info())\n",
    "    print()\n",
    "    \n",
    "    # print to observe the min, max values of dataset\n",
    "    descT = sonar_df.describe().transpose()\n",
    "    cols = list(descT)\n",
    "\n",
    "    #move 'max' column next to 'min' column for easy visual comparison\n",
    "    cols.insert(cols.index('25%'), cols.pop(cols.index('max')))\n",
    "    descT = descT.loc[:, cols]\n",
    "    print(descT)\n",
    "    print()\n",
    "\n",
    "    charts(sonar_df)\n",
    "    "
   ]
  },
  {
   "cell_type": "code",
   "execution_count": 6,
   "metadata": {
    "scrolled": false
   },
   "outputs": [
    {
     "name": "stdout",
     "output_type": "stream",
     "text": [
      "Any null ? False\n",
      "\n",
      "NULL count in each column:\n",
      "A01    0\n",
      "A02    0\n",
      "A03    0\n",
      "A04    0\n",
      "A05    0\n",
      "A06    0\n",
      "A07    0\n",
      "A08    0\n",
      "A09    0\n",
      "A10    0\n",
      "A11    0\n",
      "A12    0\n",
      "A13    0\n",
      "A14    0\n",
      "A15    0\n",
      "A16    0\n",
      "A17    0\n",
      "A18    0\n",
      "A19    0\n",
      "A20    0\n",
      "A21    0\n",
      "A22    0\n",
      "A23    0\n",
      "A24    0\n",
      "A25    0\n",
      "A26    0\n",
      "A27    0\n",
      "A28    0\n",
      "A29    0\n",
      "A30    0\n",
      "A31    0\n",
      "A32    0\n",
      "A33    0\n",
      "A34    0\n",
      "A35    0\n",
      "A36    0\n",
      "A37    0\n",
      "A38    0\n",
      "A39    0\n",
      "A40    0\n",
      "A41    0\n",
      "A42    0\n",
      "A43    0\n",
      "A44    0\n",
      "A45    0\n",
      "A46    0\n",
      "A47    0\n",
      "A48    0\n",
      "A49    0\n",
      "A50    0\n",
      "A51    0\n",
      "A52    0\n",
      "A53    0\n",
      "A54    0\n",
      "A55    0\n",
      "A56    0\n",
      "A57    0\n",
      "A58    0\n",
      "A59    0\n",
      "A60    0\n",
      "C      0\n",
      "dtype: int64\n",
      "\n",
      "Any NaN ? False\n",
      "\n",
      "ZERO count in each column:\n",
      "A01    0\n",
      "A02    0\n",
      "A03    0\n",
      "A04    0\n",
      "A05    0\n",
      "A06    0\n",
      "A07    0\n",
      "A08    0\n",
      "A09    0\n",
      "A10    0\n",
      "A11    0\n",
      "A12    0\n",
      "A13    0\n",
      "A14    0\n",
      "A15    0\n",
      "A16    0\n",
      "A17    0\n",
      "A18    0\n",
      "A19    0\n",
      "A20    0\n",
      "A21    0\n",
      "A22    0\n",
      "A23    0\n",
      "A24    0\n",
      "A25    0\n",
      "A26    0\n",
      "A27    0\n",
      "A28    0\n",
      "A29    0\n",
      "A30    0\n",
      "A31    0\n",
      "A32    0\n",
      "A33    0\n",
      "A34    0\n",
      "A35    0\n",
      "A36    0\n",
      "A37    0\n",
      "A38    0\n",
      "A39    0\n",
      "A40    0\n",
      "A41    0\n",
      "A42    0\n",
      "A43    1\n",
      "A44    1\n",
      "A45    1\n",
      "A46    1\n",
      "A47    1\n",
      "A48    1\n",
      "A49    1\n",
      "A50    1\n",
      "A51    1\n",
      "A52    0\n",
      "A53    0\n",
      "A54    0\n",
      "A55    0\n",
      "A56    0\n",
      "A57    0\n",
      "A58    0\n",
      "A59    0\n",
      "A60    0\n",
      "C      0\n",
      "dtype: int64\n",
      "\n",
      "What are the categorical column(s)? Index(['C'], dtype='object')\n",
      "\n",
      "Unique value count of categorical columns:\n",
      "C    2\n",
      "dtype: int64\n",
      "\n",
      "Unique value of categorical columns:\n",
      "     C\n",
      "M  111\n",
      "R   97\n"
     ]
    }
   ],
   "source": [
    "# looking at Fig 1. above, the data is normally distributed\n",
    "\n",
    "if verbose==1:\n",
    "    exploratory_data_analysis(sonar_df)\n"
   ]
  },
  {
   "cell_type": "code",
   "execution_count": 7,
   "metadata": {},
   "outputs": [
    {
     "data": {
      "text/html": [
       "<div>\n",
       "<style scoped>\n",
       "    .dataframe tbody tr th:only-of-type {\n",
       "        vertical-align: middle;\n",
       "    }\n",
       "\n",
       "    .dataframe tbody tr th {\n",
       "        vertical-align: top;\n",
       "    }\n",
       "\n",
       "    .dataframe thead th {\n",
       "        text-align: right;\n",
       "    }\n",
       "</style>\n",
       "<table border=\"1\" class=\"dataframe\">\n",
       "  <thead>\n",
       "    <tr style=\"text-align: right;\">\n",
       "      <th></th>\n",
       "      <th>A01</th>\n",
       "      <th>A02</th>\n",
       "      <th>A03</th>\n",
       "      <th>A04</th>\n",
       "      <th>A05</th>\n",
       "      <th>A06</th>\n",
       "      <th>A07</th>\n",
       "      <th>A08</th>\n",
       "      <th>A09</th>\n",
       "      <th>A10</th>\n",
       "      <th>...</th>\n",
       "      <th>A51</th>\n",
       "      <th>A52</th>\n",
       "      <th>A53</th>\n",
       "      <th>A54</th>\n",
       "      <th>A55</th>\n",
       "      <th>A56</th>\n",
       "      <th>A57</th>\n",
       "      <th>A58</th>\n",
       "      <th>A59</th>\n",
       "      <th>A60</th>\n",
       "    </tr>\n",
       "  </thead>\n",
       "  <tbody>\n",
       "    <tr>\n",
       "      <th>0</th>\n",
       "      <td>0.0200</td>\n",
       "      <td>0.0371</td>\n",
       "      <td>0.0428</td>\n",
       "      <td>0.0207</td>\n",
       "      <td>0.0954</td>\n",
       "      <td>0.0986</td>\n",
       "      <td>0.1539</td>\n",
       "      <td>0.1601</td>\n",
       "      <td>0.3109</td>\n",
       "      <td>0.2111</td>\n",
       "      <td>...</td>\n",
       "      <td>0.0232</td>\n",
       "      <td>0.0027</td>\n",
       "      <td>0.0065</td>\n",
       "      <td>0.0159</td>\n",
       "      <td>0.0072</td>\n",
       "      <td>0.0167</td>\n",
       "      <td>0.0180</td>\n",
       "      <td>0.0084</td>\n",
       "      <td>0.0090</td>\n",
       "      <td>0.0032</td>\n",
       "    </tr>\n",
       "    <tr>\n",
       "      <th>1</th>\n",
       "      <td>0.0453</td>\n",
       "      <td>0.0523</td>\n",
       "      <td>0.0843</td>\n",
       "      <td>0.0689</td>\n",
       "      <td>0.1183</td>\n",
       "      <td>0.2583</td>\n",
       "      <td>0.2156</td>\n",
       "      <td>0.3481</td>\n",
       "      <td>0.3337</td>\n",
       "      <td>0.2872</td>\n",
       "      <td>...</td>\n",
       "      <td>0.0125</td>\n",
       "      <td>0.0084</td>\n",
       "      <td>0.0089</td>\n",
       "      <td>0.0048</td>\n",
       "      <td>0.0094</td>\n",
       "      <td>0.0191</td>\n",
       "      <td>0.0140</td>\n",
       "      <td>0.0049</td>\n",
       "      <td>0.0052</td>\n",
       "      <td>0.0044</td>\n",
       "    </tr>\n",
       "    <tr>\n",
       "      <th>2</th>\n",
       "      <td>0.0262</td>\n",
       "      <td>0.0582</td>\n",
       "      <td>0.1099</td>\n",
       "      <td>0.1083</td>\n",
       "      <td>0.0974</td>\n",
       "      <td>0.2280</td>\n",
       "      <td>0.2431</td>\n",
       "      <td>0.3771</td>\n",
       "      <td>0.5598</td>\n",
       "      <td>0.6194</td>\n",
       "      <td>...</td>\n",
       "      <td>0.0033</td>\n",
       "      <td>0.0232</td>\n",
       "      <td>0.0166</td>\n",
       "      <td>0.0095</td>\n",
       "      <td>0.0180</td>\n",
       "      <td>0.0244</td>\n",
       "      <td>0.0316</td>\n",
       "      <td>0.0164</td>\n",
       "      <td>0.0095</td>\n",
       "      <td>0.0078</td>\n",
       "    </tr>\n",
       "    <tr>\n",
       "      <th>3</th>\n",
       "      <td>0.0100</td>\n",
       "      <td>0.0171</td>\n",
       "      <td>0.0623</td>\n",
       "      <td>0.0205</td>\n",
       "      <td>0.0205</td>\n",
       "      <td>0.0368</td>\n",
       "      <td>0.1098</td>\n",
       "      <td>0.1276</td>\n",
       "      <td>0.0598</td>\n",
       "      <td>0.1264</td>\n",
       "      <td>...</td>\n",
       "      <td>0.0241</td>\n",
       "      <td>0.0121</td>\n",
       "      <td>0.0036</td>\n",
       "      <td>0.0150</td>\n",
       "      <td>0.0085</td>\n",
       "      <td>0.0073</td>\n",
       "      <td>0.0050</td>\n",
       "      <td>0.0044</td>\n",
       "      <td>0.0040</td>\n",
       "      <td>0.0117</td>\n",
       "    </tr>\n",
       "    <tr>\n",
       "      <th>4</th>\n",
       "      <td>0.0762</td>\n",
       "      <td>0.0666</td>\n",
       "      <td>0.0481</td>\n",
       "      <td>0.0394</td>\n",
       "      <td>0.0590</td>\n",
       "      <td>0.0649</td>\n",
       "      <td>0.1209</td>\n",
       "      <td>0.2467</td>\n",
       "      <td>0.3564</td>\n",
       "      <td>0.4459</td>\n",
       "      <td>...</td>\n",
       "      <td>0.0156</td>\n",
       "      <td>0.0031</td>\n",
       "      <td>0.0054</td>\n",
       "      <td>0.0105</td>\n",
       "      <td>0.0110</td>\n",
       "      <td>0.0015</td>\n",
       "      <td>0.0072</td>\n",
       "      <td>0.0048</td>\n",
       "      <td>0.0107</td>\n",
       "      <td>0.0094</td>\n",
       "    </tr>\n",
       "  </tbody>\n",
       "</table>\n",
       "<p>5 rows × 60 columns</p>\n",
       "</div>"
      ],
      "text/plain": [
       "      A01     A02     A03     A04     A05     A06     A07     A08     A09  \\\n",
       "0  0.0200  0.0371  0.0428  0.0207  0.0954  0.0986  0.1539  0.1601  0.3109   \n",
       "1  0.0453  0.0523  0.0843  0.0689  0.1183  0.2583  0.2156  0.3481  0.3337   \n",
       "2  0.0262  0.0582  0.1099  0.1083  0.0974  0.2280  0.2431  0.3771  0.5598   \n",
       "3  0.0100  0.0171  0.0623  0.0205  0.0205  0.0368  0.1098  0.1276  0.0598   \n",
       "4  0.0762  0.0666  0.0481  0.0394  0.0590  0.0649  0.1209  0.2467  0.3564   \n",
       "\n",
       "      A10  ...     A51     A52     A53     A54     A55     A56     A57  \\\n",
       "0  0.2111  ...  0.0232  0.0027  0.0065  0.0159  0.0072  0.0167  0.0180   \n",
       "1  0.2872  ...  0.0125  0.0084  0.0089  0.0048  0.0094  0.0191  0.0140   \n",
       "2  0.6194  ...  0.0033  0.0232  0.0166  0.0095  0.0180  0.0244  0.0316   \n",
       "3  0.1264  ...  0.0241  0.0121  0.0036  0.0150  0.0085  0.0073  0.0050   \n",
       "4  0.4459  ...  0.0156  0.0031  0.0054  0.0105  0.0110  0.0015  0.0072   \n",
       "\n",
       "      A58     A59     A60  \n",
       "0  0.0084  0.0090  0.0032  \n",
       "1  0.0049  0.0052  0.0044  \n",
       "2  0.0164  0.0095  0.0078  \n",
       "3  0.0044  0.0040  0.0117  \n",
       "4  0.0048  0.0107  0.0094  \n",
       "\n",
       "[5 rows x 60 columns]"
      ]
     },
     "execution_count": 7,
     "metadata": {},
     "output_type": "execute_result"
    },
    {
     "data": {
      "text/plain": [
       "0    R\n",
       "1    R\n",
       "2    R\n",
       "3    R\n",
       "4    R\n",
       "Name: C, dtype: object"
      ]
     },
     "execution_count": 7,
     "metadata": {},
     "output_type": "execute_result"
    }
   ],
   "source": [
    "X = sonar_df.drop(columns=['C'])\n",
    "y = sonar_df['C']\n",
    "\n",
    "if verbose==1:\n",
    "    X.head()\n",
    "    y.head()\n"
   ]
  },
  {
   "cell_type": "code",
   "execution_count": 8,
   "metadata": {},
   "outputs": [],
   "source": [
    "# perform label encoding on Y\n",
    "lbl_encoder = LabelEncoder()\n",
    "# encode 'R' as in 'Rock' to 0\n",
    "# encode 'M' as in 'Mine' to 1\n",
    "lbl_encoder = LabelEncoder.fit(lbl_encoder, y = [\"R\", \"M\"])\n",
    "y_encoded = lbl_encoder.fit_transform(y)\n",
    "\n",
    "# perform one hot encoding\n",
    "y = to_categorical(y_encoded)\n",
    "\n",
    "# cast X to numpy array\n",
    "X = X.to_numpy()"
   ]
  },
  {
   "cell_type": "code",
   "execution_count": 9,
   "metadata": {},
   "outputs": [],
   "source": [
    "X_train, X_test, y_train, y_test = train_test_split(X, y, test_size=0.25, shuffle=True)"
   ]
  },
  {
   "cell_type": "code",
   "execution_count": 10,
   "metadata": {},
   "outputs": [
    {
     "data": {
      "text/plain": [
       "StandardScaler(copy=True, with_mean=True, with_std=True)"
      ]
     },
     "execution_count": 10,
     "metadata": {},
     "output_type": "execute_result"
    }
   ],
   "source": [
    "# perform scaling\n",
    "scaler = StandardScaler()\n",
    "scaler.fit(X_train)\n",
    "X_train = scaler.transform(X_train)\n",
    "X_test = scaler.transform (X_test)\n"
   ]
  },
  {
   "cell_type": "code",
   "execution_count": 11,
   "metadata": {
    "scrolled": false
   },
   "outputs": [
    {
     "data": {
      "text/plain": [
       "(156, 60)"
      ]
     },
     "execution_count": 11,
     "metadata": {},
     "output_type": "execute_result"
    },
    {
     "data": {
      "text/plain": [
       "numpy.ndarray"
      ]
     },
     "execution_count": 11,
     "metadata": {},
     "output_type": "execute_result"
    },
    {
     "data": {
      "text/plain": [
       "(52, 60)"
      ]
     },
     "execution_count": 11,
     "metadata": {},
     "output_type": "execute_result"
    },
    {
     "data": {
      "text/plain": [
       "numpy.ndarray"
      ]
     },
     "execution_count": 11,
     "metadata": {},
     "output_type": "execute_result"
    },
    {
     "data": {
      "text/plain": [
       "(156, 2)"
      ]
     },
     "execution_count": 11,
     "metadata": {},
     "output_type": "execute_result"
    },
    {
     "data": {
      "text/plain": [
       "numpy.ndarray"
      ]
     },
     "execution_count": 11,
     "metadata": {},
     "output_type": "execute_result"
    },
    {
     "data": {
      "text/plain": [
       "(52, 2)"
      ]
     },
     "execution_count": 11,
     "metadata": {},
     "output_type": "execute_result"
    },
    {
     "data": {
      "text/plain": [
       "numpy.ndarray"
      ]
     },
     "execution_count": 11,
     "metadata": {},
     "output_type": "execute_result"
    }
   ],
   "source": [
    "# check to ensure the shape and \n",
    "# data type are what I think it should be\n",
    "if verbose==1:\n",
    "    X_train.shape\n",
    "    type(X_train)\n",
    "    X_test.shape\n",
    "    type(X_test)\n",
    "    y_train.shape\n",
    "    type(y_train)\n",
    "    y_test.shape\n",
    "    type(y_test)"
   ]
  },
  {
   "cell_type": "code",
   "execution_count": 12,
   "metadata": {},
   "outputs": [
    {
     "name": "stdout",
     "output_type": "stream",
     "text": [
      "WARNING:tensorflow:From C:\\Users\\SengTian\\Anaconda3\\envs\\tf1.15\\lib\\site-packages\\keras\\backend\\tensorflow_backend.py:74: The name tf.get_default_graph is deprecated. Please use tf.compat.v1.get_default_graph instead.\n",
      "\n",
      "WARNING:tensorflow:From C:\\Users\\SengTian\\Anaconda3\\envs\\tf1.15\\lib\\site-packages\\keras\\backend\\tensorflow_backend.py:517: The name tf.placeholder is deprecated. Please use tf.compat.v1.placeholder instead.\n",
      "\n",
      "WARNING:tensorflow:From C:\\Users\\SengTian\\Anaconda3\\envs\\tf1.15\\lib\\site-packages\\keras\\backend\\tensorflow_backend.py:4138: The name tf.random_uniform is deprecated. Please use tf.random.uniform instead.\n",
      "\n"
     ]
    }
   ],
   "source": [
    "# build the Artifical Neuro Network layers\n",
    "network = models.Sequential()\n",
    "network.add(layers.Dense(240, activation='relu', input_shape=(60,)))\n",
    "network.add(layers.Dense(240, activation='relu'))\n",
    "network.add(layers.Dense(240, activation='relu'))\n",
    "network.add(layers.Dense(2, activation='softmax'))"
   ]
  },
  {
   "cell_type": "code",
   "execution_count": 13,
   "metadata": {},
   "outputs": [
    {
     "name": "stdout",
     "output_type": "stream",
     "text": [
      "WARNING:tensorflow:From C:\\Users\\SengTian\\Anaconda3\\envs\\tf1.15\\lib\\site-packages\\keras\\optimizers.py:790: The name tf.train.Optimizer is deprecated. Please use tf.compat.v1.train.Optimizer instead.\n",
      "\n",
      "WARNING:tensorflow:From C:\\Users\\SengTian\\Anaconda3\\envs\\tf1.15\\lib\\site-packages\\keras\\backend\\tensorflow_backend.py:3295: The name tf.log is deprecated. Please use tf.math.log instead.\n",
      "\n",
      "_________________________________________________________________\n",
      "Layer (type)                 Output Shape              Param #   \n",
      "=================================================================\n",
      "dense_1 (Dense)              (None, 240)               14640     \n",
      "_________________________________________________________________\n",
      "dense_2 (Dense)              (None, 240)               57840     \n",
      "_________________________________________________________________\n",
      "dense_3 (Dense)              (None, 240)               57840     \n",
      "_________________________________________________________________\n",
      "dense_4 (Dense)              (None, 2)                 482       \n",
      "=================================================================\n",
      "Total params: 130,802\n",
      "Trainable params: 130,802\n",
      "Non-trainable params: 0\n",
      "_________________________________________________________________\n"
     ]
    }
   ],
   "source": [
    "network.compile(optimizer='adam', loss='categorical_crossentropy', metrics=['accuracy'])\n",
    "network.summary()"
   ]
  },
  {
   "cell_type": "code",
   "execution_count": 14,
   "metadata": {
    "scrolled": false
   },
   "outputs": [
    {
     "name": "stdout",
     "output_type": "stream",
     "text": [
      "WARNING:tensorflow:From C:\\Users\\SengTian\\Anaconda3\\envs\\tf1.15\\lib\\site-packages\\tensorflow_core\\python\\ops\\math_grad.py:1424: where (from tensorflow.python.ops.array_ops) is deprecated and will be removed in a future version.\n",
      "Instructions for updating:\n",
      "Use tf.where in 2.0, which has the same broadcast rule as np.where\n",
      "WARNING:tensorflow:From C:\\Users\\SengTian\\Anaconda3\\envs\\tf1.15\\lib\\site-packages\\keras\\backend\\tensorflow_backend.py:986: The name tf.assign_add is deprecated. Please use tf.compat.v1.assign_add instead.\n",
      "\n",
      "WARNING:tensorflow:From C:\\Users\\SengTian\\Anaconda3\\envs\\tf1.15\\lib\\site-packages\\keras\\backend\\tensorflow_backend.py:973: The name tf.assign is deprecated. Please use tf.compat.v1.assign instead.\n",
      "\n",
      "WARNING:tensorflow:From C:\\Users\\SengTian\\Anaconda3\\envs\\tf1.15\\lib\\site-packages\\keras\\backend\\tensorflow_backend.py:2741: The name tf.Session is deprecated. Please use tf.compat.v1.Session instead.\n",
      "\n",
      "Train on 121 samples, validate on 35 samples\n",
      "Epoch 1/20\n",
      "WARNING:tensorflow:From C:\\Users\\SengTian\\Anaconda3\\envs\\tf1.15\\lib\\site-packages\\keras\\backend\\tensorflow_backend.py:174: The name tf.get_default_session is deprecated. Please use tf.compat.v1.get_default_session instead.\n",
      "\n",
      "WARNING:tensorflow:From C:\\Users\\SengTian\\Anaconda3\\envs\\tf1.15\\lib\\site-packages\\keras\\backend\\tensorflow_backend.py:181: The name tf.ConfigProto is deprecated. Please use tf.compat.v1.ConfigProto instead.\n",
      "\n",
      "WARNING:tensorflow:From C:\\Users\\SengTian\\Anaconda3\\envs\\tf1.15\\lib\\site-packages\\keras\\backend\\tensorflow_backend.py:190: The name tf.global_variables is deprecated. Please use tf.compat.v1.global_variables instead.\n",
      "\n",
      "WARNING:tensorflow:From C:\\Users\\SengTian\\Anaconda3\\envs\\tf1.15\\lib\\site-packages\\keras\\backend\\tensorflow_backend.py:199: The name tf.is_variable_initialized is deprecated. Please use tf.compat.v1.is_variable_initialized instead.\n",
      "\n",
      "WARNING:tensorflow:From C:\\Users\\SengTian\\Anaconda3\\envs\\tf1.15\\lib\\site-packages\\keras\\backend\\tensorflow_backend.py:206: The name tf.variables_initializer is deprecated. Please use tf.compat.v1.variables_initializer instead.\n",
      "\n",
      "121/121 [==============================] - 0s 3ms/step - loss: 0.6318 - acc: 0.6446 - val_loss: 0.4743 - val_acc: 0.8000\n",
      "Epoch 2/20\n",
      "121/121 [==============================] - 0s 258us/step - loss: 0.4540 - acc: 0.7686 - val_loss: 0.4169 - val_acc: 0.8286\n",
      "Epoch 3/20\n",
      "121/121 [==============================] - 0s 258us/step - loss: 0.2495 - acc: 0.9339 - val_loss: 0.3954 - val_acc: 0.8000\n",
      "Epoch 4/20\n",
      "121/121 [==============================] - 0s 262us/step - loss: 0.1834 - acc: 0.9669 - val_loss: 0.3670 - val_acc: 0.8857\n",
      "Epoch 5/20\n",
      "121/121 [==============================] - 0s 281us/step - loss: 0.1387 - acc: 0.9835 - val_loss: 0.3529 - val_acc: 0.7429\n",
      "Epoch 6/20\n",
      "121/121 [==============================] - 0s 231us/step - loss: 0.0874 - acc: 1.0000 - val_loss: 0.2856 - val_acc: 0.8571\n",
      "Epoch 7/20\n",
      "121/121 [==============================] - 0s 289us/step - loss: 0.0467 - acc: 1.0000 - val_loss: 0.3050 - val_acc: 0.7714\n",
      "Epoch 8/20\n",
      "121/121 [==============================] - 0s 297us/step - loss: 0.0302 - acc: 1.0000 - val_loss: 0.2792 - val_acc: 0.8000\n",
      "Epoch 9/20\n",
      "121/121 [==============================] - 0s 363us/step - loss: 0.0164 - acc: 1.0000 - val_loss: 0.2280 - val_acc: 0.9143\n",
      "Epoch 10/20\n",
      "121/121 [==============================] - 0s 256us/step - loss: 0.0105 - acc: 1.0000 - val_loss: 0.2188 - val_acc: 0.9143\n",
      "Epoch 11/20\n",
      "121/121 [==============================] - 0s 273us/step - loss: 0.0067 - acc: 1.0000 - val_loss: 0.2291 - val_acc: 0.9143\n",
      "Epoch 12/20\n",
      "121/121 [==============================] - 0s 256us/step - loss: 0.0051 - acc: 1.0000 - val_loss: 0.2236 - val_acc: 0.9143\n",
      "Epoch 13/20\n",
      "121/121 [==============================] - 0s 223us/step - loss: 0.0037 - acc: 1.0000 - val_loss: 0.2098 - val_acc: 0.9429\n",
      "Epoch 14/20\n",
      "121/121 [==============================] - 0s 289us/step - loss: 0.0029 - acc: 1.0000 - val_loss: 0.2053 - val_acc: 0.9429\n",
      "Epoch 15/20\n",
      "121/121 [==============================] - 0s 223us/step - loss: 0.0024 - acc: 1.0000 - val_loss: 0.2054 - val_acc: 0.9429\n",
      "Epoch 16/20\n",
      "121/121 [==============================] - 0s 256us/step - loss: 0.0020 - acc: 1.0000 - val_loss: 0.2055 - val_acc: 0.9429\n",
      "Epoch 17/20\n",
      "121/121 [==============================] - 0s 248us/step - loss: 0.0017 - acc: 1.0000 - val_loss: 0.2063 - val_acc: 0.9429\n",
      "Epoch 18/20\n",
      "121/121 [==============================] - 0s 264us/step - loss: 0.0015 - acc: 1.0000 - val_loss: 0.2080 - val_acc: 0.9429\n",
      "Epoch 19/20\n",
      "121/121 [==============================] - 0s 264us/step - loss: 0.0013 - acc: 1.0000 - val_loss: 0.2082 - val_acc: 0.9429\n",
      "Epoch 20/20\n",
      "121/121 [==============================] - 0s 256us/step - loss: 0.0011 - acc: 1.0000 - val_loss: 0.2102 - val_acc: 0.9429\n",
      "\n",
      "52/52 [==============================] - 0s 77us/step\n",
      "\n",
      "test_acc: 0.8846153937853299\n"
     ]
    }
   ],
   "source": [
    "history = network.fit(\n",
    "                      X_train, y_train, validation_split=0.22, \n",
    "                      epochs=20, batch_size=20, shuffle=True, verbose=1\n",
    "                     )\n",
    "\n",
    "print()\n",
    "test_loss, test_acc = network.evaluate(X_test, y_test)\n",
    "\n",
    "print()\n",
    "print('test_acc:', test_acc)"
   ]
  },
  {
   "cell_type": "code",
   "execution_count": 15,
   "metadata": {},
   "outputs": [],
   "source": [
    "history_dict = history.history\n",
    "loss_values = history_dict['loss']\n",
    "val_loss_values = history_dict['val_loss']\n",
    "\n",
    "acc_values = history_dict['acc']\n",
    "val_acc_values = history_dict['val_acc']\n",
    "\n",
    "epochs = range(1, len(loss_values) + 1)"
   ]
  },
  {
   "cell_type": "code",
   "execution_count": 16,
   "metadata": {},
   "outputs": [
    {
     "data": {
      "text/plain": [
       "[<matplotlib.lines.Line2D at 0x207b9015248>]"
      ]
     },
     "execution_count": 16,
     "metadata": {},
     "output_type": "execute_result"
    },
    {
     "data": {
      "text/plain": [
       "[<matplotlib.lines.Line2D at 0x207ba015f48>]"
      ]
     },
     "execution_count": 16,
     "metadata": {},
     "output_type": "execute_result"
    },
    {
     "data": {
      "text/plain": [
       "Text(0.5, 0, 'Epochs')"
      ]
     },
     "execution_count": 16,
     "metadata": {},
     "output_type": "execute_result"
    },
    {
     "data": {
      "text/plain": [
       "Text(0, 0.5, 'Loss')"
      ]
     },
     "execution_count": 16,
     "metadata": {},
     "output_type": "execute_result"
    },
    {
     "data": {
      "text/plain": [
       "<matplotlib.legend.Legend at 0x207ba03d508>"
      ]
     },
     "execution_count": 16,
     "metadata": {},
     "output_type": "execute_result"
    },
    {
     "data": {
      "text/plain": [
       "[<matplotlib.lines.Line2D at 0x207ba039348>]"
      ]
     },
     "execution_count": 16,
     "metadata": {},
     "output_type": "execute_result"
    },
    {
     "data": {
      "text/plain": [
       "[<matplotlib.lines.Line2D at 0x207ba048d48>]"
      ]
     },
     "execution_count": 16,
     "metadata": {},
     "output_type": "execute_result"
    },
    {
     "data": {
      "text/plain": [
       "Text(0.5, 0, 'Epochs')"
      ]
     },
     "execution_count": 16,
     "metadata": {},
     "output_type": "execute_result"
    },
    {
     "data": {
      "text/plain": [
       "Text(0, 0.5, 'Loss')"
      ]
     },
     "execution_count": 16,
     "metadata": {},
     "output_type": "execute_result"
    },
    {
     "data": {
      "text/plain": [
       "<matplotlib.legend.Legend at 0x207ba04fb08>"
      ]
     },
     "execution_count": 16,
     "metadata": {},
     "output_type": "execute_result"
    },
    {
     "data": {
      "image/png": "[encoded data removed]",
      "text/plain": [
       "<Figure size 792x360 with 2 Axes>"
      ]
     },
     "metadata": {
      "needs_background": "light"
     },
     "output_type": "display_data"
    }
   ],
   "source": [
    "fig = plt.figure(figsize=(11,5))\n",
    "ax1 = fig.add_subplot(121)\n",
    "ax2 = fig.add_subplot(122)\n",
    "\n",
    "#draw chart to show validation vs training losses\n",
    "ax1.plot(epochs, loss_values, 'r', label='Training loss')\n",
    "ax1.plot(epochs, val_loss_values, 'b', label='Validation loss')\n",
    "ax1.title.set_text('Fig 2. Training and Validation Loss')\n",
    "ax1.set_xlabel('Epochs')\n",
    "ax1.set_ylabel('Loss')\n",
    "#ax1.set_xticks([tick for tick in range(1, len(loss_values), 2)])\n",
    "ax1.legend()\n",
    "\n",
    "# draw chart to show validation vs training accuracy\n",
    "ax2.plot(epochs, acc_values, 'r', label='Training acc')\n",
    "ax2.plot(epochs, val_acc_values, 'b', label='Validation acc')\n",
    "ax2.title.set_text('Fig 3. Training and Validation Accuracy')\n",
    "ax2.set_xlabel('Epochs')\n",
    "ax2.set_ylabel('Loss')\n",
    "#ax1.set_xticks([tick for tick in range(1, len(val_loss_values), 2)])\n",
    "ax2.legend()\n",
    "\n",
    "plt.show()\n"
   ]
  },
  {
   "cell_type": "code",
   "execution_count": null,
   "metadata": {},
   "outputs": [],
   "source": []
  }
 ],
 "metadata": {
  "kernelspec": {
   "display_name": "Python 3",
   "language": "python",
   "name": "python3"
  },
  "language_info": {
   "codemirror_mode": {
    "name": "ipython",
    "version": 3
   },
   "file_extension": ".py",
   "mimetype": "text/x-python",
   "name": "python",
   "nbconvert_exporter": "python",
   "pygments_lexer": "ipython3",
   "version": "3.7.6"
  }
 },
 "nbformat": 4,
 "nbformat_minor": 2
}
