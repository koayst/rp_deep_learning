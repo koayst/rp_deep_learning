{
 "cells": [
  {
   "cell_type": "markdown",
   "metadata": {},
   "source": [
    "<div style=\"width: 400px; height: 160px;\">\n",
    "    <img src=\"rplogo_small.png\" width=\"100%\" height=\"100%\" align=\"left\">\n",
    "</div>\n",
    "\n",
    "###     TIPP - AAI Assignement (Deep Learning Fundamentals)<br>Due Date: 21 February 2020\n",
    "###     Submitted By: <u>KOAY</u> SENG TIAN<br>Email: sengtian@yahoo.com\n"
   ]
  },
  {
   "cell_type": "markdown",
   "metadata": {},
   "source": [
    "## Question 2 (Testing #1 & Testing #2)"
   ]
  },
  {
   "cell_type": "code",
   "execution_count": 1,
   "metadata": {},
   "outputs": [],
   "source": [
    "import argparse\n",
    "import numpy as np\n",
    "import matplotlib.pyplot as plt\n",
    "import pandas as pd\n",
    "import os\n",
    "import pickle\n",
    "\n",
    "# set verbose=0 to skip the charts and other information\n",
    "# set verbose=1 to see chart and other information\n",
    "#verbose=0\n",
    "verbose=1\n",
    "\n",
    "# uncomment one of the 2 lines to test either datatest.txt or datatest2.txt\n",
    "testdata_file = 'datatest.txt'\n",
    "#testdata_file = 'datatest2.txt'\n"
   ]
  },
  {
   "cell_type": "code",
   "execution_count": 2,
   "metadata": {},
   "outputs": [],
   "source": [
    "# You can run this either as a 1) jupyter note or 2) File -> Download as -> Python (.py) \n",
    "#\n",
    "# 1) Jupyter notebook: \n",
    "#    Settings: 1) set verbose (see above) to either 0 (no charts) or 1 (charts and other information)\n",
    "#              2) comment / uncomment test_datafile to use datatest.txt or datatest2.txt to test the model\n",
    "#\n",
    "# 2) Python script (.py):\n",
    "#        1) open a terminal (command prompt in windows that has python interpreter)\n",
    "#        2) python Question2_Test_DLF.py -h\n",
    "# \n",
    "#           usage: Question #2 Testing [-h] [-v VERBOSE] [-t TEST]\n",
    "#\n",
    "#           optional arguments:\n",
    "#              -h, --help            show this help message and exit\n",
    "#              -v VERBOSE, --verbose VERBOSE\n",
    "#                                   turn on or off verbose mode (default: 1)\n",
    "#              -t TEST, --test TEST  (0) for datatest.txt and (1) datatest1.txt\n",
    "#        3) Example: python Question2_Test_DLF.py -v 0 -t 1 OR\n",
    "#                    python Question2_Test_DLF.py -v 1 -t 2\n",
    "#\n",
    "if __name__ == '__main__' and '__file__' in globals():\n",
    "    ap = argparse.ArgumentParser('Question #2 Testing')\n",
    "    ap.add_argument('-v', '--verbose', default='0', type=int, help='turn off(0, default) or on(1) verbose mode')\n",
    "    ap.add_argument('-t', '--test', default='0', type=int, help='(0, default) for datatest.txt and (1) datatest1.txt')\n",
    "\n",
    "    args = vars (ap.parse_args())\n",
    "\n",
    "    verbose = 0\n",
    "    if args.get('verbose') == 1:\n",
    "        verbose=1\n",
    "        \n",
    "    if args.get('test') == 1:\n",
    "        testdata_file = 'datatest2.txt'\n",
    "        \n",
    "    print('Verbose=', verbose, ' Test data file=', testdata_file)\n",
    "    print()\n",
    "    "
   ]
  },
  {
   "cell_type": "code",
   "execution_count": 3,
   "metadata": {},
   "outputs": [
    {
     "name": "stderr",
     "output_type": "stream",
     "text": [
      "Using TensorFlow backend.\n"
     ]
    }
   ],
   "source": [
    "import keras\n",
    "\n",
    "model_filename = 'model.pkl'\n",
    "scaler_filename = 'scaler.pkl'\n",
    "\n",
    "model_dir = os.path.join(os.getcwd(), 'model')\n",
    "data_dir = os.path.join(os.getcwd(), 'data')\n"
   ]
  },
  {
   "cell_type": "code",
   "execution_count": 4,
   "metadata": {},
   "outputs": [
    {
     "name": "stdout",
     "output_type": "stream",
     "text": [
      "WARNING:tensorflow:From C:\\Users\\SengTian\\Anaconda3\\envs\\tf1.15\\lib\\site-packages\\keras\\backend\\tensorflow_backend.py:74: The name tf.get_default_graph is deprecated. Please use tf.compat.v1.get_default_graph instead.\n",
      "\n",
      "WARNING:tensorflow:From C:\\Users\\SengTian\\Anaconda3\\envs\\tf1.15\\lib\\site-packages\\keras\\backend\\tensorflow_backend.py:517: The name tf.placeholder is deprecated. Please use tf.compat.v1.placeholder instead.\n",
      "\n",
      "WARNING:tensorflow:From C:\\Users\\SengTian\\Anaconda3\\envs\\tf1.15\\lib\\site-packages\\keras\\backend\\tensorflow_backend.py:4138: The name tf.random_uniform is deprecated. Please use tf.random.uniform instead.\n",
      "\n",
      "WARNING:tensorflow:From C:\\Users\\SengTian\\Anaconda3\\envs\\tf1.15\\lib\\site-packages\\keras\\backend\\tensorflow_backend.py:174: The name tf.get_default_session is deprecated. Please use tf.compat.v1.get_default_session instead.\n",
      "\n",
      "WARNING:tensorflow:From C:\\Users\\SengTian\\Anaconda3\\envs\\tf1.15\\lib\\site-packages\\keras\\backend\\tensorflow_backend.py:181: The name tf.ConfigProto is deprecated. Please use tf.compat.v1.ConfigProto instead.\n",
      "\n",
      "WARNING:tensorflow:From C:\\Users\\SengTian\\Anaconda3\\envs\\tf1.15\\lib\\site-packages\\keras\\backend\\tensorflow_backend.py:186: The name tf.Session is deprecated. Please use tf.compat.v1.Session instead.\n",
      "\n",
      "WARNING:tensorflow:From C:\\Users\\SengTian\\Anaconda3\\envs\\tf1.15\\lib\\site-packages\\keras\\backend\\tensorflow_backend.py:190: The name tf.global_variables is deprecated. Please use tf.compat.v1.global_variables instead.\n",
      "\n",
      "WARNING:tensorflow:From C:\\Users\\SengTian\\Anaconda3\\envs\\tf1.15\\lib\\site-packages\\keras\\backend\\tensorflow_backend.py:199: The name tf.is_variable_initialized is deprecated. Please use tf.compat.v1.is_variable_initialized instead.\n",
      "\n",
      "WARNING:tensorflow:From C:\\Users\\SengTian\\Anaconda3\\envs\\tf1.15\\lib\\site-packages\\keras\\backend\\tensorflow_backend.py:206: The name tf.variables_initializer is deprecated. Please use tf.compat.v1.variables_initializer instead.\n",
      "\n",
      "WARNING:tensorflow:From C:\\Users\\SengTian\\Anaconda3\\envs\\tf1.15\\lib\\site-packages\\keras\\optimizers.py:790: The name tf.train.Optimizer is deprecated. Please use tf.compat.v1.train.Optimizer instead.\n",
      "\n",
      "WARNING:tensorflow:From C:\\Users\\SengTian\\Anaconda3\\envs\\tf1.15\\lib\\site-packages\\tensorflow_core\\python\\ops\\math_grad.py:1424: where (from tensorflow.python.ops.array_ops) is deprecated and will be removed in a future version.\n",
      "Instructions for updating:\n",
      "Use tf.where in 2.0, which has the same broadcast rule as np.where\n",
      "WARNING:tensorflow:From C:\\Users\\SengTian\\Anaconda3\\envs\\tf1.15\\lib\\site-packages\\keras\\backend\\tensorflow_backend.py:986: The name tf.assign_add is deprecated. Please use tf.compat.v1.assign_add instead.\n",
      "\n",
      "WARNING:tensorflow:From C:\\Users\\SengTian\\Anaconda3\\envs\\tf1.15\\lib\\site-packages\\keras\\backend\\tensorflow_backend.py:973: The name tf.assign is deprecated. Please use tf.compat.v1.assign instead.\n",
      "\n",
      "Load model.\n",
      "Load scaler.\n"
     ]
    }
   ],
   "source": [
    "# load model and scaler\n",
    "with open(os.path.join(model_dir, model_filename), 'rb') as model_file:\n",
    "    model = pickle.load(model_file)\n",
    "    print('Load model.')\n",
    "    \n",
    "with open(os.path.join(model_dir, scaler_filename), 'rb') as scaler_file:\n",
    "    scaler = pickle.load(scaler_file)\n",
    "    print('Load scaler.')\n",
    "    "
   ]
  },
  {
   "cell_type": "code",
   "execution_count": 5,
   "metadata": {},
   "outputs": [
    {
     "name": "stdout",
     "output_type": "stream",
     "text": [
      "Test data shape= (2665, 7)\n",
      "\n",
      "The time series starts from:  2015-02-02 14:19:00\n",
      "The time series ends on:  2015-02-04 10:43:00\n",
      "\n"
     ]
    }
   ],
   "source": [
    "test_df = pd.read_csv(os.path.join(data_dir, testdata_file))\n",
    "test_df['date']= pd.to_datetime(test_df['date']) \n",
    "test_df.sort_values(by='date', inplace=True, ascending=True)\n",
    "\n",
    "if verbose==1:\n",
    "    print('Test data shape=', test_df.shape)\n",
    "    print()\n",
    "    print('The time series starts from: ', test_df.date.min())\n",
    "    print('The time series ends on: ', test_df.date.max())\n",
    "    print()"
   ]
  },
  {
   "cell_type": "code",
   "execution_count": 6,
   "metadata": {},
   "outputs": [
    {
     "data": {
      "image/png": "[encoded data removed]",
      "text/plain": [
       "<Figure size 720x720 with 6 Axes>"
      ]
     },
     "metadata": {
      "needs_background": "light"
     },
     "output_type": "display_data"
    }
   ],
   "source": [
    "import mycharts\n",
    "\n",
    "if verbose==1:\n",
    "    mycharts.chart01(test_df.columns[1:], test_df, 'blue')"
   ]
  },
  {
   "cell_type": "code",
   "execution_count": 7,
   "metadata": {},
   "outputs": [],
   "source": [
    "#set the dat as index\n",
    "test_df = test_df.set_index('date')   "
   ]
  },
  {
   "cell_type": "code",
   "execution_count": 8,
   "metadata": {},
   "outputs": [
    {
     "name": "stdout",
     "output_type": "stream",
     "text": [
      "-----HEAD-(Before Shifting)----\n",
      "                     Temperature  Humidity       Light         CO2  \\\n",
      "date                                                                 \n",
      "2015-02-02 14:19:00      23.7000    26.272  585.200000  749.200000   \n",
      "2015-02-02 14:19:59      23.7180    26.290  578.400000  760.400000   \n",
      "2015-02-02 14:21:00      23.7300    26.230  572.666667  769.666667   \n",
      "2015-02-02 14:22:00      23.7225    26.125  493.750000  774.750000   \n",
      "2015-02-02 14:23:00      23.7540    26.200  488.600000  779.000000   \n",
      "\n",
      "                     HumidityRatio  Occupancy  \n",
      "date                                           \n",
      "2015-02-02 14:19:00       0.004764          1  \n",
      "2015-02-02 14:19:59       0.004773          1  \n",
      "2015-02-02 14:21:00       0.004765          1  \n",
      "2015-02-02 14:22:00       0.004744          1  \n",
      "2015-02-02 14:23:00       0.004767          1  \n",
      "\n",
      "-----TAIL-(Before Shifting)----\n",
      "                     Temperature   Humidity  Light      CO2  HumidityRatio  \\\n",
      "date                                                                         \n",
      "2015-02-04 10:38:59    24.290000  25.700000  808.0  1150.25       0.004829   \n",
      "2015-02-04 10:40:00    24.330000  25.736000  809.8  1129.20       0.004848   \n",
      "2015-02-04 10:40:59    24.330000  25.700000  817.0  1125.80       0.004841   \n",
      "2015-02-04 10:41:59    24.356667  25.700000  813.0  1123.00       0.004849   \n",
      "2015-02-04 10:43:00    24.408333  25.681667  798.0  1124.00       0.004860   \n",
      "\n",
      "                     Occupancy  \n",
      "date                            \n",
      "2015-02-04 10:38:59          1  \n",
      "2015-02-04 10:40:00          1  \n",
      "2015-02-04 10:40:59          1  \n",
      "2015-02-04 10:41:59          1  \n",
      "2015-02-04 10:43:00          1  \n",
      "\n",
      "Temperature      float64\n",
      "Humidity         float64\n",
      "Light            float64\n",
      "CO2              float64\n",
      "HumidityRatio    float64\n",
      "Occupancy          int64\n",
      "dtype: object\n"
     ]
    }
   ],
   "source": [
    "if verbose==1:\n",
    "    print('-----HEAD-(Before Shifting)----')\n",
    "    print(test_df.head())\n",
    "    print()\n",
    "    print('-----TAIL-(Before Shifting)----')\n",
    "    print(test_df.tail())\n",
    "    print()\n",
    "    print(test_df.dtypes)"
   ]
  },
  {
   "cell_type": "code",
   "execution_count": 9,
   "metadata": {},
   "outputs": [],
   "source": [
    "# shift the data 'backward' by 1\n",
    "# so as to perform future occupancy forecasting \n",
    "test_df.Occupancy = test_df.Occupancy.shift(-1)"
   ]
  },
  {
   "cell_type": "code",
   "execution_count": 10,
   "metadata": {},
   "outputs": [
    {
     "data": {
      "text/plain": [
       "date\n",
       "2015-02-02 14:19:00    1\n",
       "2015-02-02 14:19:59    1\n",
       "2015-02-02 14:21:00    1\n",
       "2015-02-02 14:22:00    1\n",
       "2015-02-02 14:23:00    1\n",
       "                      ..\n",
       "2015-02-04 10:38:00    1\n",
       "2015-02-04 10:38:59    1\n",
       "2015-02-04 10:40:00    1\n",
       "2015-02-04 10:40:59    1\n",
       "2015-02-04 10:41:59    1\n",
       "Name: Occupancy, Length: 2664, dtype: int64"
      ]
     },
     "execution_count": 10,
     "metadata": {},
     "output_type": "execute_result"
    }
   ],
   "source": [
    "# drop the last row as occupancy is Nan\n",
    "test_df.drop(test_df.tail(1).index, inplace=True)\n",
    "test_df.Occupancy.astype('int64')\n"
   ]
  },
  {
   "cell_type": "code",
   "execution_count": 11,
   "metadata": {},
   "outputs": [
    {
     "name": "stdout",
     "output_type": "stream",
     "text": [
      "Last row was dropped\n",
      "Shape= (2664, 6)\n",
      "\n",
      "-----HEAD-(After Shifting)----\n",
      "                     Temperature  Humidity       Light         CO2  \\\n",
      "date                                                                 \n",
      "2015-02-02 14:19:00      23.7000    26.272  585.200000  749.200000   \n",
      "2015-02-02 14:19:59      23.7180    26.290  578.400000  760.400000   \n",
      "2015-02-02 14:21:00      23.7300    26.230  572.666667  769.666667   \n",
      "2015-02-02 14:22:00      23.7225    26.125  493.750000  774.750000   \n",
      "2015-02-02 14:23:00      23.7540    26.200  488.600000  779.000000   \n",
      "\n",
      "                     HumidityRatio  Occupancy  \n",
      "date                                           \n",
      "2015-02-02 14:19:00       0.004764        1.0  \n",
      "2015-02-02 14:19:59       0.004773        1.0  \n",
      "2015-02-02 14:21:00       0.004765        1.0  \n",
      "2015-02-02 14:22:00       0.004744        1.0  \n",
      "2015-02-02 14:23:00       0.004767        1.0  \n",
      "\n",
      "-----TAIL-(After Shifting)----\n",
      "                     Temperature  Humidity  Light      CO2  HumidityRatio  \\\n",
      "date                                                                        \n",
      "2015-02-04 10:38:00    24.290000    25.852  801.4  1140.80       0.004858   \n",
      "2015-02-04 10:38:59    24.290000    25.700  808.0  1150.25       0.004829   \n",
      "2015-02-04 10:40:00    24.330000    25.736  809.8  1129.20       0.004848   \n",
      "2015-02-04 10:40:59    24.330000    25.700  817.0  1125.80       0.004841   \n",
      "2015-02-04 10:41:59    24.356667    25.700  813.0  1123.00       0.004849   \n",
      "\n",
      "                     Occupancy  \n",
      "date                            \n",
      "2015-02-04 10:38:00        1.0  \n",
      "2015-02-04 10:38:59        1.0  \n",
      "2015-02-04 10:40:00        1.0  \n",
      "2015-02-04 10:40:59        1.0  \n",
      "2015-02-04 10:41:59        1.0  \n",
      "\n",
      "Temperature      float64\n",
      "Humidity         float64\n",
      "Light            float64\n",
      "CO2              float64\n",
      "HumidityRatio    float64\n",
      "Occupancy        float64\n",
      "dtype: object\n"
     ]
    }
   ],
   "source": [
    "if verbose==1:\n",
    "    # the below prints are meant for integrity \n",
    "    # checking i.e. compare before and after shifting\n",
    "    print('Last row was dropped')\n",
    "    print('Shape=', test_df.shape)\n",
    "    print()\n",
    "    print('-----HEAD-(After Shifting)----')\n",
    "    print(test_df.head())\n",
    "    print()\n",
    "    print('-----TAIL-(After Shifting)----')\n",
    "    print(test_df.tail())\n",
    "    print()\n",
    "    print(test_df.dtypes)"
   ]
  },
  {
   "cell_type": "code",
   "execution_count": 12,
   "metadata": {},
   "outputs": [],
   "source": [
    "X = test_df.iloc[:,  : -1].copy().to_numpy()\n",
    "y = test_df.iloc[:, -1 ].copy().to_numpy()"
   ]
  },
  {
   "cell_type": "code",
   "execution_count": 13,
   "metadata": {},
   "outputs": [],
   "source": [
    "X = scaler.transform(X)\n",
    "\n",
    "#reshape for LSTM's format samples, timestep and features\n",
    "X = X.reshape(-1, 1, 5)"
   ]
  },
  {
   "cell_type": "code",
   "execution_count": 14,
   "metadata": {},
   "outputs": [],
   "source": [
    "pred = model.predict(X)\n",
    "pred_classes = model.predict_classes(X)"
   ]
  },
  {
   "cell_type": "code",
   "execution_count": 15,
   "metadata": {},
   "outputs": [],
   "source": [
    "pred_classes_squeezed = np.squeeze(pred_classes)"
   ]
  },
  {
   "cell_type": "code",
   "execution_count": 16,
   "metadata": {
    "scrolled": false
   },
   "outputs": [
    {
     "name": "stdout",
     "output_type": "stream",
     "text": [
      "-----------------------------------------------------\n",
      "Test file:  datatest.txt\n",
      "-----------------------------------------------------\n",
      "Confusion Matrix:\n",
      "Predicted     0     1   All\n",
      "True                       \n",
      "0.0        1636    57  1693\n",
      "1.0           5   966   971\n",
      "All        1641  1023  2664\n",
      "\n",
      "-----------------------------------------------------\n",
      "Classification Report:\n",
      "              precision    recall  f1-score   support\n",
      "\n",
      "         0.0       1.00      0.97      0.98      1693\n",
      "         1.0       0.94      0.99      0.97       971\n",
      "\n",
      "    accuracy                           0.98      2664\n",
      "   macro avg       0.97      0.98      0.98      2664\n",
      "weighted avg       0.98      0.98      0.98      2664\n",
      "\n"
     ]
    }
   ],
   "source": [
    "from sklearn.metrics import classification_report, confusion_matrix\n",
    "\n",
    "print('-----------------------------------------------------')\n",
    "print('Test file: ', testdata_file)\n",
    "print('-----------------------------------------------------')\n",
    "print('Confusion Matrix:')\n",
    "print(pd.crosstab(y, pred_classes_squeezed, rownames=['True'], colnames=['Predicted'], margins=True))\n",
    "print('\\n-----------------------------------------------------')\n",
    "print('Classification Report:')\n",
    "print(classification_report(y, pred_classes_squeezed))"
   ]
  },
  {
   "cell_type": "code",
   "execution_count": 17,
   "metadata": {},
   "outputs": [],
   "source": [
    "# using datatest.txt, the accuracy is 98%, precision (0=100%, 1=94%)\n",
    "# using datatest2.txt, the accuracy is 99%, precision (0=100%, 1=97%)"
   ]
  },
  {
   "cell_type": "code",
   "execution_count": null,
   "metadata": {},
   "outputs": [],
   "source": []
  }
 ],
 "metadata": {
  "kernelspec": {
   "display_name": "Python 3",
   "language": "python",
   "name": "python3"
  },
  "language_info": {
   "codemirror_mode": {
    "name": "ipython",
    "version": 3
   },
   "file_extension": ".py",
   "mimetype": "text/x-python",
   "name": "python",
   "nbconvert_exporter": "python",
   "pygments_lexer": "ipython3",
   "version": "3.7.6"
  }
 },
 "nbformat": 4,
 "nbformat_minor": 2
}
