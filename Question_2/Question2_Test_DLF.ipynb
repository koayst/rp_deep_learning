{
 "cells": [
  {
   "cell_type": "markdown",
   "metadata": {},
   "source": [
    "<div style=\"width: 400px; height: 160px;\">\n",
    "    <img src=\"rplogo_small.png\" width=\"100%\" height=\"100%\" align=\"left\">\n",
    "</div>\n",
    "\n",
    "###     TIPP - AAI Assignement (Deep Learning Fundamentals)<br>Due Date: 21 February 2020\n",
    "###     Submitted By: <u>KOAY</u> SENG TIAN<br>Email: sengtian@yahoo.com\n"
   ]
  },
  {
   "cell_type": "markdown",
   "metadata": {},
   "source": [
    "## Question 2 (Testing #1 & Testing #2)"
   ]
  },
  {
   "cell_type": "code",
   "execution_count": 1,
   "metadata": {},
   "outputs": [],
   "source": [
    "import argparse\n",
    "import numpy as np\n",
    "import matplotlib.pyplot as plt\n",
    "import pandas as pd\n",
    "import os\n",
    "import pickle\n",
    "\n",
    "# set verbose=0 to skip the charts and other information\n",
    "# set verbose=1 to see chart and other information\n",
    "#verbose=0\n",
    "verbose=1\n",
    "\n",
    "# uncomment one of the 2 lines to test either datatest.txt or datatest2.txt\n",
    "testdata_file = 'datatest.txt'\n",
    "#testdata_file = 'datatest2.txt'\n"
   ]
  },
  {
   "cell_type": "code",
   "execution_count": 2,
   "metadata": {},
   "outputs": [],
   "source": [
    "# You can run this either as a 1) jupyter note or 2) File -> Download as -> Python (.py) \n",
    "#\n",
    "# 1) Jupyter notebook: \n",
    "#    Settings: 1) set verbose (see above) to either 0 (no charts) or 1 (charts and other information)\n",
    "#              2) comment / uncomment test_datafile to use datatest.txt or datatest2.txt to test the model\n",
    "#\n",
    "# 2) Python script (.py):\n",
    "#        1) open a terminal (command prompt in windows that has python interpreter)\n",
    "#        2) python Question2_Test_DLF.py -h\n",
    "# \n",
    "#           usage: Question #2 Testing [-h] [-v VERBOSE] [-t TEST]\n",
    "#\n",
    "#           optional arguments:\n",
    "#              -h, --help            show this help message and exit\n",
    "#              -v VERBOSE, --verbose VERBOSE\n",
    "#                                   turn on or off verbose mode (default: 1)\n",
    "#              -t TEST, --test TEST  (0) for datatest.txt and (1) datatest1.txt\n",
    "#        3) Example: python Question2_Test_DLF.py -v 0 -t 1 OR\n",
    "#                    python Question2_Test_DLF.py -v 1 -t 2\n",
    "#\n",
    "if __name__ == '__main__' and '__file__' in globals():\n",
    "    ap = argparse.ArgumentParser('Question #2 Testing')\n",
    "    ap.add_argument('-v', '--verbose', default='0', type=int, help='turn off(0, default) or on(1) verbose mode')\n",
    "    ap.add_argument('-t', '--test', default='0', type=int, help='(0, default) for datatest.txt and (1) datatest1.txt')\n",
    "\n",
    "    args = vars (ap.parse_args())\n",
    "\n",
    "    verbose = 0\n",
    "    if args.get('verbose') == 1:\n",
    "        verbose=1\n",
    "        \n",
    "    if args.get('test') == 1:\n",
    "        testdata_file = 'datatest2.txt'\n",
    "        \n",
    "    print('Verbose=', verbose, ' Test data file=', testdata_file)\n",
    "    print()\n",
    "    "
   ]
  },
  {
   "cell_type": "code",
   "execution_count": 3,
   "metadata": {},
   "outputs": [
    {
     "name": "stderr",
     "output_type": "stream",
     "text": [
      "Using TensorFlow backend.\n"
     ]
    }
   ],
   "source": [
    "import keras\n",
    "\n",
    "model_filename = 'model.pkl'\n",
    "scaler_filename = 'scaler.pkl'\n",
    "\n",
    "model_dir = os.path.join(os.getcwd(), 'model')\n",
    "data_dir = os.path.join(os.getcwd(), 'data')\n"
   ]
  },
  {
   "cell_type": "code",
   "execution_count": 4,
   "metadata": {},
   "outputs": [
    {
     "name": "stdout",
     "output_type": "stream",
     "text": [
      "WARNING:tensorflow:From C:\\Users\\SengTian\\Anaconda3\\envs\\tf1.15\\lib\\site-packages\\keras\\backend\\tensorflow_backend.py:74: The name tf.get_default_graph is deprecated. Please use tf.compat.v1.get_default_graph instead.\n",
      "\n",
      "WARNING:tensorflow:From C:\\Users\\SengTian\\Anaconda3\\envs\\tf1.15\\lib\\site-packages\\keras\\backend\\tensorflow_backend.py:517: The name tf.placeholder is deprecated. Please use tf.compat.v1.placeholder instead.\n",
      "\n",
      "WARNING:tensorflow:From C:\\Users\\SengTian\\Anaconda3\\envs\\tf1.15\\lib\\site-packages\\keras\\backend\\tensorflow_backend.py:4138: The name tf.random_uniform is deprecated. Please use tf.random.uniform instead.\n",
      "\n",
      "WARNING:tensorflow:From C:\\Users\\SengTian\\Anaconda3\\envs\\tf1.15\\lib\\site-packages\\keras\\backend\\tensorflow_backend.py:174: The name tf.get_default_session is deprecated. Please use tf.compat.v1.get_default_session instead.\n",
      "\n",
      "WARNING:tensorflow:From C:\\Users\\SengTian\\Anaconda3\\envs\\tf1.15\\lib\\site-packages\\keras\\backend\\tensorflow_backend.py:181: The name tf.ConfigProto is deprecated. Please use tf.compat.v1.ConfigProto instead.\n",
      "\n",
      "WARNING:tensorflow:From C:\\Users\\SengTian\\Anaconda3\\envs\\tf1.15\\lib\\site-packages\\keras\\backend\\tensorflow_backend.py:186: The name tf.Session is deprecated. Please use tf.compat.v1.Session instead.\n",
      "\n",
      "WARNING:tensorflow:From C:\\Users\\SengTian\\Anaconda3\\envs\\tf1.15\\lib\\site-packages\\keras\\backend\\tensorflow_backend.py:190: The name tf.global_variables is deprecated. Please use tf.compat.v1.global_variables instead.\n",
      "\n",
      "WARNING:tensorflow:From C:\\Users\\SengTian\\Anaconda3\\envs\\tf1.15\\lib\\site-packages\\keras\\backend\\tensorflow_backend.py:199: The name tf.is_variable_initialized is deprecated. Please use tf.compat.v1.is_variable_initialized instead.\n",
      "\n",
      "WARNING:tensorflow:From C:\\Users\\SengTian\\Anaconda3\\envs\\tf1.15\\lib\\site-packages\\keras\\backend\\tensorflow_backend.py:206: The name tf.variables_initializer is deprecated. Please use tf.compat.v1.variables_initializer instead.\n",
      "\n",
      "WARNING:tensorflow:From C:\\Users\\SengTian\\Anaconda3\\envs\\tf1.15\\lib\\site-packages\\keras\\optimizers.py:790: The name tf.train.Optimizer is deprecated. Please use tf.compat.v1.train.Optimizer instead.\n",
      "\n",
      "WARNING:tensorflow:From C:\\Users\\SengTian\\Anaconda3\\envs\\tf1.15\\lib\\site-packages\\tensorflow_core\\python\\ops\\math_grad.py:1424: where (from tensorflow.python.ops.array_ops) is deprecated and will be removed in a future version.\n",
      "Instructions for updating:\n",
      "Use tf.where in 2.0, which has the same broadcast rule as np.where\n",
      "WARNING:tensorflow:From C:\\Users\\SengTian\\Anaconda3\\envs\\tf1.15\\lib\\site-packages\\keras\\backend\\tensorflow_backend.py:986: The name tf.assign_add is deprecated. Please use tf.compat.v1.assign_add instead.\n",
      "\n",
      "WARNING:tensorflow:From C:\\Users\\SengTian\\Anaconda3\\envs\\tf1.15\\lib\\site-packages\\keras\\backend\\tensorflow_backend.py:973: The name tf.assign is deprecated. Please use tf.compat.v1.assign instead.\n",
      "\n",
      "Load model.\n",
      "Load scaler.\n"
     ]
    }
   ],
   "source": [
    "# load model and scaler\n",
    "with open(os.path.join(model_dir, model_filename), 'rb') as model_file:\n",
    "    model = pickle.load(model_file)\n",
    "    print('Load model.')\n",
    "    \n",
    "with open(os.path.join(model_dir, scaler_filename), 'rb') as scaler_file:\n",
    "    scaler = pickle.load(scaler_file)\n",
    "    print('Load scaler.')\n",
    "    "
   ]
  },
  {
   "cell_type": "code",
   "execution_count": 5,
   "metadata": {},
   "outputs": [
    {
     "name": "stdout",
     "output_type": "stream",
     "text": [
      "Test data shape= (9752, 7)\n",
      "\n",
      "The time series starts from:  2015-02-11 14:48:00\n",
      "The time series ends on:  2015-02-18 09:19:00\n",
      "\n"
     ]
    }
   ],
   "source": [
    "test_df = pd.read_csv(os.path.join(data_dir, testdata_file))\n",
    "test_df['date']= pd.to_datetime(test_df['date']) \n",
    "test_df.sort_values(by='date', inplace=True, ascending=True)\n",
    "\n",
    "if verbose==1:\n",
    "    print('Test data shape=', test_df.shape)\n",
    "    print()\n",
    "    print('The time series starts from: ', test_df.date.min())\n",
    "    print('The time series ends on: ', test_df.date.max())\n",
    "    print()"
   ]
  },
  {
   "cell_type": "code",
   "execution_count": 6,
   "metadata": {},
   "outputs": [
    {
     "data": {
      "image/png": "[encoded data removed]",
      "text/plain": [
       "<Figure size 720x720 with 6 Axes>"
      ]
     },
     "metadata": {
      "needs_background": "light"
     },
     "output_type": "display_data"
    }
   ],
   "source": [
    "import mycharts\n",
    "\n",
    "if verbose==1:\n",
    "    mycharts.chart01(test_df.columns[1:], test_df, 'blue')"
   ]
  },
  {
   "cell_type": "code",
   "execution_count": 7,
   "metadata": {},
   "outputs": [],
   "source": [
    "#set the dat as index\n",
    "test_df = test_df.set_index('date')   "
   ]
  },
  {
   "cell_type": "code",
   "execution_count": 8,
   "metadata": {},
   "outputs": [
    {
     "name": "stdout",
     "output_type": "stream",
     "text": [
      "-----HEAD-(Before Shifting)----\n",
      "                     Temperature   Humidity       Light          CO2  \\\n",
      "date                                                                   \n",
      "2015-02-11 14:48:00      21.7600  31.133333  437.333333  1029.666667   \n",
      "2015-02-11 14:49:00      21.7900  31.000000  437.333333  1000.000000   \n",
      "2015-02-11 14:50:00      21.7675  31.122500  434.000000  1003.750000   \n",
      "2015-02-11 14:51:00      21.7675  31.122500  439.000000  1009.500000   \n",
      "2015-02-11 14:51:59      21.7900  31.133333  437.333333  1005.666667   \n",
      "\n",
      "                     HumidityRatio  Occupancy  \n",
      "date                                           \n",
      "2015-02-11 14:48:00       0.005021          1  \n",
      "2015-02-11 14:49:00       0.005009          1  \n",
      "2015-02-11 14:50:00       0.005022          1  \n",
      "2015-02-11 14:51:00       0.005022          1  \n",
      "2015-02-11 14:51:59       0.005030          1  \n",
      "\n",
      "-----TAIL-(Before Shifting)----\n",
      "                     Temperature  Humidity   Light      CO2  HumidityRatio  \\\n",
      "date                                                                         \n",
      "2015-02-18 09:15:00       20.815   27.7175  429.75  1505.25       0.004213   \n",
      "2015-02-18 09:16:00       20.865   27.7450  423.50  1514.50       0.004230   \n",
      "2015-02-18 09:16:59       20.890   27.7450  423.50  1521.50       0.004237   \n",
      "2015-02-18 09:17:59       20.890   28.0225  418.75  1632.00       0.004279   \n",
      "2015-02-18 09:19:00       21.000   28.1000  409.00  1864.00       0.004321   \n",
      "\n",
      "                     Occupancy  \n",
      "date                            \n",
      "2015-02-18 09:15:00          1  \n",
      "2015-02-18 09:16:00          1  \n",
      "2015-02-18 09:16:59          1  \n",
      "2015-02-18 09:17:59          1  \n",
      "2015-02-18 09:19:00          1  \n",
      "\n",
      "Temperature      float64\n",
      "Humidity         float64\n",
      "Light            float64\n",
      "CO2              float64\n",
      "HumidityRatio    float64\n",
      "Occupancy          int64\n",
      "dtype: object\n"
     ]
    }
   ],
   "source": [
    "if verbose==1:\n",
    "    print('-----HEAD-(Before Shifting)----')\n",
    "    print(test_df.head())\n",
    "    print()\n",
    "    print('-----TAIL-(Before Shifting)----')\n",
    "    print(test_df.tail())\n",
    "    print()\n",
    "    print(test_df.dtypes)"
   ]
  },
  {
   "cell_type": "code",
   "execution_count": 9,
   "metadata": {},
   "outputs": [],
   "source": [
    "# shift the data 'backward' by 1\n",
    "# so as to perform future occupancy forecasting \n",
    "test_df.Occupancy = test_df.Occupancy.shift(-1)"
   ]
  },
  {
   "cell_type": "code",
   "execution_count": 10,
   "metadata": {},
   "outputs": [],
   "source": [
    "# drop the last row as occupancy is Nan\n",
    "test_df.drop(test_df.tail(1).index, inplace=True)\n",
    "test_df.Occupancy = test_df.Occupancy.astype('int64')\n"
   ]
  },
  {
   "cell_type": "code",
   "execution_count": 11,
   "metadata": {},
   "outputs": [
    {
     "name": "stdout",
     "output_type": "stream",
     "text": [
      "Last row was dropped\n",
      "Shape= (9751, 6)\n",
      "\n",
      "-----HEAD-(After Shifting)----\n",
      "                     Temperature   Humidity       Light          CO2  \\\n",
      "date                                                                   \n",
      "2015-02-11 14:48:00      21.7600  31.133333  437.333333  1029.666667   \n",
      "2015-02-11 14:49:00      21.7900  31.000000  437.333333  1000.000000   \n",
      "2015-02-11 14:50:00      21.7675  31.122500  434.000000  1003.750000   \n",
      "2015-02-11 14:51:00      21.7675  31.122500  439.000000  1009.500000   \n",
      "2015-02-11 14:51:59      21.7900  31.133333  437.333333  1005.666667   \n",
      "\n",
      "                     HumidityRatio  Occupancy  \n",
      "date                                           \n",
      "2015-02-11 14:48:00       0.005021          1  \n",
      "2015-02-11 14:49:00       0.005009          1  \n",
      "2015-02-11 14:50:00       0.005022          1  \n",
      "2015-02-11 14:51:00       0.005022          1  \n",
      "2015-02-11 14:51:59       0.005030          1  \n",
      "\n",
      "-----TAIL-(After Shifting)----\n",
      "                     Temperature  Humidity   Light      CO2  HumidityRatio  \\\n",
      "date                                                                         \n",
      "2015-02-18 09:14:00       20.815   27.4175  430.75  1511.75       0.004167   \n",
      "2015-02-18 09:15:00       20.815   27.7175  429.75  1505.25       0.004213   \n",
      "2015-02-18 09:16:00       20.865   27.7450  423.50  1514.50       0.004230   \n",
      "2015-02-18 09:16:59       20.890   27.7450  423.50  1521.50       0.004237   \n",
      "2015-02-18 09:17:59       20.890   28.0225  418.75  1632.00       0.004279   \n",
      "\n",
      "                     Occupancy  \n",
      "date                            \n",
      "2015-02-18 09:14:00          1  \n",
      "2015-02-18 09:15:00          1  \n",
      "2015-02-18 09:16:00          1  \n",
      "2015-02-18 09:16:59          1  \n",
      "2015-02-18 09:17:59          1  \n",
      "\n",
      "Temperature      float64\n",
      "Humidity         float64\n",
      "Light            float64\n",
      "CO2              float64\n",
      "HumidityRatio    float64\n",
      "Occupancy          int64\n",
      "dtype: object\n"
     ]
    }
   ],
   "source": [
    "if verbose==1:\n",
    "    # the below prints are meant for integrity \n",
    "    # checking i.e. compare before and after shifting\n",
    "    print('Last row was dropped')\n",
    "    print('Shape=', test_df.shape)\n",
    "    print()\n",
    "    print('-----HEAD-(After Shifting)----')\n",
    "    print(test_df.head())\n",
    "    print()\n",
    "    print('-----TAIL-(After Shifting)----')\n",
    "    print(test_df.tail())\n",
    "    print()\n",
    "    print(test_df.dtypes)"
   ]
  },
  {
   "cell_type": "code",
   "execution_count": 12,
   "metadata": {},
   "outputs": [],
   "source": [
    "X = test_df.iloc[:,  : -1].copy().to_numpy()\n",
    "y = test_df.iloc[:, -1 ].copy().to_numpy()"
   ]
  },
  {
   "cell_type": "code",
   "execution_count": 13,
   "metadata": {},
   "outputs": [],
   "source": [
    "X = scaler.transform(X)\n",
    "\n",
    "#reshape for LSTM's format samples, timestep and features\n",
    "X = X.reshape(-1, 1, 5)"
   ]
  },
  {
   "cell_type": "code",
   "execution_count": 14,
   "metadata": {},
   "outputs": [],
   "source": [
    "pred = model.predict(X)\n",
    "pred_classes = model.predict_classes(X)"
   ]
  },
  {
   "cell_type": "code",
   "execution_count": 15,
   "metadata": {},
   "outputs": [],
   "source": [
    "pred_classes_squeezed = np.squeeze(pred_classes)"
   ]
  },
  {
   "cell_type": "code",
   "execution_count": 16,
   "metadata": {
    "scrolled": false
   },
   "outputs": [
    {
     "name": "stdout",
     "output_type": "stream",
     "text": [
      "-----------------------------------------------------\n",
      "Test file:  datatest2.txt\n",
      "-----------------------------------------------------\n",
      "Confusion Matrix:\n",
      "Predicted     0     1   All\n",
      "True                       \n",
      "0          7635    68  7703\n",
      "1             9  2039  2048\n",
      "All        7644  2107  9751\n",
      "\n",
      "-----------------------------------------------------\n",
      "Classification Report:\n",
      "              precision    recall  f1-score   support\n",
      "\n",
      "           0       1.00      0.99      0.99      7703\n",
      "           1       0.97      1.00      0.98      2048\n",
      "\n",
      "    accuracy                           0.99      9751\n",
      "   macro avg       0.98      0.99      0.99      9751\n",
      "weighted avg       0.99      0.99      0.99      9751\n",
      "\n"
     ]
    }
   ],
   "source": [
    "from sklearn.metrics import classification_report, confusion_matrix\n",
    "\n",
    "print('-----------------------------------------------------')\n",
    "print('Test file: ', testdata_file)\n",
    "print('-----------------------------------------------------')\n",
    "print('Confusion Matrix:')\n",
    "print(pd.crosstab(y, pred_classes_squeezed, rownames=['True'], colnames=['Predicted'], margins=True))\n",
    "print('\\n-----------------------------------------------------')\n",
    "print('Classification Report:')\n",
    "print(classification_report(y, pred_classes_squeezed))"
   ]
  },
  {
   "cell_type": "code",
   "execution_count": 17,
   "metadata": {},
   "outputs": [],
   "source": [
    "# using datatest.txt, the accuracy is 98%, precision (0=100%, 1=94%)\n",
    "# using datatest2.txt, the accuracy is 99%, precision (0=100%, 1=97%)"
   ]
  },
  {
   "cell_type": "code",
   "execution_count": null,
   "metadata": {},
   "outputs": [],
   "source": []
  }
 ],
 "metadata": {
  "kernelspec": {
   "display_name": "Python 3",
   "language": "python",
   "name": "python3"
  },
  "language_info": {
   "codemirror_mode": {
    "name": "ipython",
    "version": 3
   },
   "file_extension": ".py",
   "mimetype": "text/x-python",
   "name": "python",
   "nbconvert_exporter": "python",
   "pygments_lexer": "ipython3",
   "version": "3.7.6"
  }
 },
 "nbformat": 4,
 "nbformat_minor": 2
}
