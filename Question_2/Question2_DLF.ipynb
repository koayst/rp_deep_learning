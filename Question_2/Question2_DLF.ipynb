{
 "cells": [
  {
   "cell_type": "markdown",
   "metadata": {},
   "source": [
    "<div style=\"width: 400px; height: 160px;\">\n",
    "    <img src=\"rplogo_small.png\" width=\"100%\" height=\"100%\" align=\"left\">\n",
    "</div>\n",
    "\n",
    "###     TIPP - AAI Assignement (Deep Learning Fundamentals)<br>Due Date: 26 February 2020\n",
    "###     Submitted By: <u>KOAY</u> SENG TIAN<br>Email: sengtian@yahoo.com\n"
   ]
  },
  {
   "cell_type": "markdown",
   "metadata": {},
   "source": [
    "## Question 2 (Model Training)"
   ]
  },
  {
   "cell_type": "code",
   "execution_count": 1,
   "metadata": {},
   "outputs": [],
   "source": [
    "# This jupyter notebook performs the training part of the modelling\n",
    "# There is another file, that perform the testing.\n",
    "import matplotlib.pyplot as plt\n",
    "import numpy as np\n",
    "import os\n",
    "import pandas as pd\n",
    "\n",
    "# for reproducibility\n",
    "np.random.seed(1337)\n",
    "\n",
    "# set verbose=0 to skip the charts and other information\n",
    "# set verbose=1 to see chart and other information\n",
    "#verbose=0\n",
    "verbose=1\n",
    "\n",
    "# the datasets are stored in the data directory\n",
    "data_dir = os.path.join(os.getcwd(), 'data')\n",
    "\n",
    "# full path to datatraining.txt\n",
    "datatraining_file = os.path.join(data_dir, 'datatraining.txt')\n"
   ]
  },
  {
   "cell_type": "code",
   "execution_count": 2,
   "metadata": {},
   "outputs": [
    {
     "name": "stdout",
     "output_type": "stream",
     "text": [
      "(8143, 7)\n",
      "\n",
      "-----HEAD-----\n",
      "                 date  Temperature  Humidity  Light     CO2  HumidityRatio  \\\n",
      "1 2015-02-04 17:51:00        23.18   27.2720  426.0  721.25       0.004793   \n",
      "2 2015-02-04 17:51:59        23.15   27.2675  429.5  714.00       0.004783   \n",
      "3 2015-02-04 17:53:00        23.15   27.2450  426.0  713.50       0.004779   \n",
      "4 2015-02-04 17:54:00        23.15   27.2000  426.0  708.25       0.004772   \n",
      "5 2015-02-04 17:55:00        23.10   27.2000  426.0  704.50       0.004757   \n",
      "\n",
      "   Occupancy  \n",
      "1          1  \n",
      "2          1  \n",
      "3          1  \n",
      "4          1  \n",
      "5          1  \n",
      "\n",
      "-----TAIL-----\n",
      "                    date  Temperature  Humidity  Light         CO2  \\\n",
      "8139 2015-02-10 09:29:00        21.05   36.0975  433.0  787.250000   \n",
      "8140 2015-02-10 09:29:59        21.05   35.9950  433.0  789.500000   \n",
      "8141 2015-02-10 09:30:59        21.10   36.0950  433.0  798.500000   \n",
      "8142 2015-02-10 09:32:00        21.10   36.2600  433.0  820.333333   \n",
      "8143 2015-02-10 09:33:00        21.10   36.2000  447.0  821.000000   \n",
      "\n",
      "      HumidityRatio  Occupancy  \n",
      "8139       0.005579          1  \n",
      "8140       0.005563          1  \n",
      "8141       0.005596          1  \n",
      "8142       0.005621          1  \n",
      "8143       0.005612          1  \n",
      "\n",
      "date             datetime64[ns]\n",
      "Temperature             float64\n",
      "Humidity                float64\n",
      "Light                   float64\n",
      "CO2                     float64\n",
      "HumidityRatio           float64\n",
      "Occupancy                 int64\n",
      "dtype: object\n"
     ]
    }
   ],
   "source": [
    "train_df = pd.read_csv(datatraining_file)\n",
    "train_df['date']= pd.to_datetime(train_df['date']) \n",
    "\n",
    "if verbose==1:\n",
    "    print(train_df.shape)\n",
    "    print()\n",
    "    print('-----HEAD-----')\n",
    "    print(train_df.head(5))\n",
    "    print()\n",
    "    print('-----TAIL-----')\n",
    "    print(train_df.tail(5))\n",
    "    print()\n",
    "    print(train_df.dtypes)\n"
   ]
  },
  {
   "cell_type": "code",
   "execution_count": 3,
   "metadata": {},
   "outputs": [
    {
     "name": "stdout",
     "output_type": "stream",
     "text": [
      "The time series starts from:  2015-02-04 17:51:00\n",
      "The time series ends on:  2015-02-10 09:33:00\n",
      "\n"
     ]
    }
   ],
   "source": [
    "train_df.sort_values(by='date', inplace=True, ascending=True)\n",
    "\n",
    "if verbose==1:\n",
    "    print('The time series starts from: ', train_df.date.min())\n",
    "    print('The time series ends on: ', train_df.date.max())\n",
    "    print()\n"
   ]
  },
  {
   "cell_type": "code",
   "execution_count": 4,
   "metadata": {},
   "outputs": [
    {
     "name": "stdout",
     "output_type": "stream",
     "text": [
      "Columns having ZERO values:\n",
      "date                0\n",
      "Temperature         0\n",
      "Humidity            0\n",
      "Light            5160\n",
      "CO2                 0\n",
      "HumidityRatio       0\n",
      "Occupancy        6414\n",
      "dtype: int64\n",
      "\n"
     ]
    }
   ],
   "source": [
    "if verbose==1:\n",
    "    print('Columns having ZERO values:')\n",
    "    print(train_df.eq(0).sum())\n",
    "    print()\n",
    "\n",
    "# Light has 5160 zero values - no issue since the lights were switched off when there were no occupacy\n",
    "# Occupancy has 6414 zero values - no issue since '0' represents unoccupied room"
   ]
  },
  {
   "cell_type": "code",
   "execution_count": 5,
   "metadata": {},
   "outputs": [],
   "source": [
    "import mycharts"
   ]
  },
  {
   "cell_type": "code",
   "execution_count": 6,
   "metadata": {},
   "outputs": [
    {
     "data": {
      "image/png": "[encoded data removed]",
      "text/plain": [
       "<Figure size 720x720 with 6 Axes>"
      ]
     },
     "metadata": {
      "needs_background": "light"
     },
     "output_type": "display_data"
    }
   ],
   "source": [
    "if verbose==1:\n",
    "    mycharts.chart01(train_df.columns[1:], train_df, 'blue')   "
   ]
  },
  {
   "cell_type": "code",
   "execution_count": 7,
   "metadata": {},
   "outputs": [],
   "source": [
    "#set the date as index\n",
    "train_df = train_df.set_index('date')"
   ]
  },
  {
   "cell_type": "code",
   "execution_count": 8,
   "metadata": {
    "scrolled": false
   },
   "outputs": [
    {
     "name": "stdout",
     "output_type": "stream",
     "text": [
      "-----HEAD-(Before Shifting)----\n",
      "                     Temperature  Humidity  Light     CO2  HumidityRatio  \\\n",
      "date                                                                       \n",
      "2015-02-04 17:51:00        23.18   27.2720  426.0  721.25       0.004793   \n",
      "2015-02-04 17:51:59        23.15   27.2675  429.5  714.00       0.004783   \n",
      "2015-02-04 17:53:00        23.15   27.2450  426.0  713.50       0.004779   \n",
      "2015-02-04 17:54:00        23.15   27.2000  426.0  708.25       0.004772   \n",
      "2015-02-04 17:55:00        23.10   27.2000  426.0  704.50       0.004757   \n",
      "\n",
      "                     Occupancy  \n",
      "date                            \n",
      "2015-02-04 17:51:00          1  \n",
      "2015-02-04 17:51:59          1  \n",
      "2015-02-04 17:53:00          1  \n",
      "2015-02-04 17:54:00          1  \n",
      "2015-02-04 17:55:00          1  \n",
      "\n",
      "-----TAIL-(Before Shifting)----\n",
      "                     Temperature  Humidity  Light         CO2  HumidityRatio  \\\n",
      "date                                                                           \n",
      "2015-02-10 09:29:00        21.05   36.0975  433.0  787.250000       0.005579   \n",
      "2015-02-10 09:29:59        21.05   35.9950  433.0  789.500000       0.005563   \n",
      "2015-02-10 09:30:59        21.10   36.0950  433.0  798.500000       0.005596   \n",
      "2015-02-10 09:32:00        21.10   36.2600  433.0  820.333333       0.005621   \n",
      "2015-02-10 09:33:00        21.10   36.2000  447.0  821.000000       0.005612   \n",
      "\n",
      "                     Occupancy  \n",
      "date                            \n",
      "2015-02-10 09:29:00          1  \n",
      "2015-02-10 09:29:59          1  \n",
      "2015-02-10 09:30:59          1  \n",
      "2015-02-10 09:32:00          1  \n",
      "2015-02-10 09:33:00          1  \n",
      "\n",
      "Temperature      float64\n",
      "Humidity         float64\n",
      "Light            float64\n",
      "CO2              float64\n",
      "HumidityRatio    float64\n",
      "Occupancy          int64\n",
      "dtype: object\n"
     ]
    }
   ],
   "source": [
    "if verbose==1:\n",
    "    print('-----HEAD-(Before Shifting)----')\n",
    "    print(train_df.head())\n",
    "    print()\n",
    "    print('-----TAIL-(Before Shifting)----')\n",
    "    print(train_df.tail())\n",
    "    print()\n",
    "    print(train_df.dtypes)"
   ]
  },
  {
   "cell_type": "code",
   "execution_count": 9,
   "metadata": {},
   "outputs": [],
   "source": [
    "# shift the data 'backward' by 1\n",
    "# so as to perform future occupancy forecasting \n",
    "train_df.Occupancy = train_df.Occupancy.shift(-1)\n"
   ]
  },
  {
   "cell_type": "code",
   "execution_count": 10,
   "metadata": {},
   "outputs": [],
   "source": [
    "# drop the last row as occupancy is Nan\n",
    "train_df.drop(train_df.tail(1).index, inplace=True)\n",
    "train_df.Occupancy = train_df.Occupancy.astype('int64')\n"
   ]
  },
  {
   "cell_type": "code",
   "execution_count": 11,
   "metadata": {},
   "outputs": [
    {
     "name": "stdout",
     "output_type": "stream",
     "text": [
      "Last row was dropped.\n",
      "Shape = (8142, 6)\n",
      "\n",
      "-----HEAD-(After Shifting)----\n",
      "                     Temperature  Humidity  Light     CO2  HumidityRatio  \\\n",
      "date                                                                       \n",
      "2015-02-04 17:51:00        23.18   27.2720  426.0  721.25       0.004793   \n",
      "2015-02-04 17:51:59        23.15   27.2675  429.5  714.00       0.004783   \n",
      "2015-02-04 17:53:00        23.15   27.2450  426.0  713.50       0.004779   \n",
      "2015-02-04 17:54:00        23.15   27.2000  426.0  708.25       0.004772   \n",
      "2015-02-04 17:55:00        23.10   27.2000  426.0  704.50       0.004757   \n",
      "\n",
      "                     Occupancy  \n",
      "date                            \n",
      "2015-02-04 17:51:00          1  \n",
      "2015-02-04 17:51:59          1  \n",
      "2015-02-04 17:53:00          1  \n",
      "2015-02-04 17:54:00          1  \n",
      "2015-02-04 17:55:00          1  \n",
      "\n",
      "-----TAIL-(After Shifting)----\n",
      "                     Temperature  Humidity  Light         CO2  HumidityRatio  \\\n",
      "date                                                                           \n",
      "2015-02-10 09:28:00        21.05   36.0500  433.0  780.250000       0.005571   \n",
      "2015-02-10 09:29:00        21.05   36.0975  433.0  787.250000       0.005579   \n",
      "2015-02-10 09:29:59        21.05   35.9950  433.0  789.500000       0.005563   \n",
      "2015-02-10 09:30:59        21.10   36.0950  433.0  798.500000       0.005596   \n",
      "2015-02-10 09:32:00        21.10   36.2600  433.0  820.333333       0.005621   \n",
      "\n",
      "                     Occupancy  \n",
      "date                            \n",
      "2015-02-10 09:28:00          1  \n",
      "2015-02-10 09:29:00          1  \n",
      "2015-02-10 09:29:59          1  \n",
      "2015-02-10 09:30:59          1  \n",
      "2015-02-10 09:32:00          1  \n",
      "\n",
      "Temperature      float64\n",
      "Humidity         float64\n",
      "Light            float64\n",
      "CO2              float64\n",
      "HumidityRatio    float64\n",
      "Occupancy          int64\n",
      "dtype: object\n"
     ]
    }
   ],
   "source": [
    "if verbose==1:\n",
    "    # the below prints are meant for integrity \n",
    "    # checking i.e. compare before and after shifting\n",
    "    print('Last row was dropped.')\n",
    "    print('Shape =', train_df.shape)\n",
    "    print()\n",
    "    print('-----HEAD-(After Shifting)----')\n",
    "    print(train_df.head())\n",
    "    print()\n",
    "    print('-----TAIL-(After Shifting)----')\n",
    "    print(train_df.tail())\n",
    "    print()\n",
    "    print(train_df.dtypes)\n"
   ]
  },
  {
   "cell_type": "code",
   "execution_count": 12,
   "metadata": {},
   "outputs": [],
   "source": [
    "X = train_df.iloc[:,  : -1].copy().to_numpy()\n",
    "y = train_df.iloc[:, -1].copy().to_numpy()\n"
   ]
  },
  {
   "cell_type": "code",
   "execution_count": 13,
   "metadata": {},
   "outputs": [
    {
     "name": "stdout",
     "output_type": "stream",
     "text": [
      "X shape= (8142, 5)\n",
      "y shape= (8142,)\n"
     ]
    }
   ],
   "source": [
    "if verbose==1:\n",
    "    print('X shape=', X.shape)\n",
    "    print('y shape=', y.shape)\n"
   ]
  },
  {
   "cell_type": "code",
   "execution_count": 14,
   "metadata": {},
   "outputs": [
    {
     "data": {
      "text/plain": [
       "MinMaxScaler(copy=True, feature_range=(0, 1))"
      ]
     },
     "execution_count": 14,
     "metadata": {},
     "output_type": "execute_result"
    }
   ],
   "source": [
    "from sklearn.model_selection import train_test_split\n",
    "from sklearn.preprocessing import MinMaxScaler\n",
    "\n",
    "X_train, X_test, y_train, y_test = train_test_split(X, y, test_size=0.3, stratify=y)\n",
    "\n",
    "# perform scaling\n",
    "scaler = MinMaxScaler()\n",
    "scaler.fit(X_train)\n",
    "X_train = scaler.transform(X_train)\n",
    "X_test = scaler.transform(X_test)\n",
    "\n",
    "# reshape due to LSTM's samples, timestep and features requirements\n",
    "X_train = X_train.reshape(-1, 1, 5)\n",
    "X_test = X_test.reshape(-1, 1, 5)\n"
   ]
  },
  {
   "cell_type": "code",
   "execution_count": 15,
   "metadata": {},
   "outputs": [
    {
     "name": "stdout",
     "output_type": "stream",
     "text": [
      "X_train and X_test reshaped for LSTM:\n",
      "X_train shape = (5699, 1, 5)\n",
      "X_test shape = (2443, 1, 5)\n"
     ]
    }
   ],
   "source": [
    "if verbose==1:\n",
    "    print('X_train and X_test reshaped for LSTM:')\n",
    "    print('X_train shape =', X_train.shape)\n",
    "    print('X_test shape =', X_test.shape)\n",
    "    "
   ]
  },
  {
   "cell_type": "code",
   "execution_count": 16,
   "metadata": {},
   "outputs": [
    {
     "name": "stderr",
     "output_type": "stream",
     "text": [
      "Using TensorFlow backend.\n"
     ]
    },
    {
     "name": "stdout",
     "output_type": "stream",
     "text": [
      "Data dim=5, Time steps=1\n",
      "\n",
      "WARNING:tensorflow:From C:\\Users\\SengTian\\Anaconda3\\envs\\tf1.15\\lib\\site-packages\\keras\\backend\\tensorflow_backend.py:74: The name tf.get_default_graph is deprecated. Please use tf.compat.v1.get_default_graph instead.\n",
      "\n",
      "WARNING:tensorflow:From C:\\Users\\SengTian\\Anaconda3\\envs\\tf1.15\\lib\\site-packages\\keras\\backend\\tensorflow_backend.py:517: The name tf.placeholder is deprecated. Please use tf.compat.v1.placeholder instead.\n",
      "\n",
      "WARNING:tensorflow:From C:\\Users\\SengTian\\Anaconda3\\envs\\tf1.15\\lib\\site-packages\\keras\\backend\\tensorflow_backend.py:4138: The name tf.random_uniform is deprecated. Please use tf.random.uniform instead.\n",
      "\n",
      "WARNING:tensorflow:From C:\\Users\\SengTian\\Anaconda3\\envs\\tf1.15\\lib\\site-packages\\keras\\optimizers.py:790: The name tf.train.Optimizer is deprecated. Please use tf.compat.v1.train.Optimizer instead.\n",
      "\n",
      "_________________________________________________________________\n",
      "Layer (type)                 Output Shape              Param #   \n",
      "=================================================================\n",
      "lstm_1 (LSTM)                (None, 1, 5)              220       \n",
      "_________________________________________________________________\n",
      "lstm_2 (LSTM)                (None, 5)                 220       \n",
      "_________________________________________________________________\n",
      "dense_1 (Dense)              (None, 1)                 6         \n",
      "=================================================================\n",
      "Total params: 446\n",
      "Trainable params: 446\n",
      "Non-trainable params: 0\n",
      "_________________________________________________________________\n"
     ]
    }
   ],
   "source": [
    "from keras import models\n",
    "from keras import layers\n",
    "\n",
    "data_dim = X_train.shape[2]\n",
    "timesteps = X_train.shape[1]\n",
    "\n",
    "if verbose==1:\n",
    "    print('Data dim={}, Time steps={}\\n'.format(data_dim, timesteps))\n",
    "\n",
    "network = models.Sequential()\n",
    "network.add(layers.LSTM(5, return_sequences=True, input_shape=(timesteps, data_dim)))\n",
    "network.add(layers.LSTM(5))\n",
    "network.add(layers.Dense(1, activation='sigmoid'))\n",
    "\n",
    "network.compile(optimizer='adam', loss='mean_squared_error', metrics=['accuracy'])\n",
    "\n",
    "network.summary()\n"
   ]
  },
  {
   "cell_type": "code",
   "execution_count": 17,
   "metadata": {
    "scrolled": false
   },
   "outputs": [
    {
     "name": "stdout",
     "output_type": "stream",
     "text": [
      "WARNING:tensorflow:From C:\\Users\\SengTian\\Anaconda3\\envs\\tf1.15\\lib\\site-packages\\tensorflow_core\\python\\ops\\math_grad.py:1424: where (from tensorflow.python.ops.array_ops) is deprecated and will be removed in a future version.\n",
      "Instructions for updating:\n",
      "Use tf.where in 2.0, which has the same broadcast rule as np.where\n",
      "WARNING:tensorflow:From C:\\Users\\SengTian\\Anaconda3\\envs\\tf1.15\\lib\\site-packages\\keras\\backend\\tensorflow_backend.py:986: The name tf.assign_add is deprecated. Please use tf.compat.v1.assign_add instead.\n",
      "\n",
      "WARNING:tensorflow:From C:\\Users\\SengTian\\Anaconda3\\envs\\tf1.15\\lib\\site-packages\\keras\\backend\\tensorflow_backend.py:973: The name tf.assign is deprecated. Please use tf.compat.v1.assign instead.\n",
      "\n",
      "WARNING:tensorflow:From C:\\Users\\SengTian\\Anaconda3\\envs\\tf1.15\\lib\\site-packages\\keras\\backend\\tensorflow_backend.py:2741: The name tf.Session is deprecated. Please use tf.compat.v1.Session instead.\n",
      "\n",
      "Train on 5699 samples, validate on 2443 samples\n",
      "Epoch 1/12\n",
      "WARNING:tensorflow:From C:\\Users\\SengTian\\Anaconda3\\envs\\tf1.15\\lib\\site-packages\\keras\\backend\\tensorflow_backend.py:174: The name tf.get_default_session is deprecated. Please use tf.compat.v1.get_default_session instead.\n",
      "\n",
      "WARNING:tensorflow:From C:\\Users\\SengTian\\Anaconda3\\envs\\tf1.15\\lib\\site-packages\\keras\\backend\\tensorflow_backend.py:181: The name tf.ConfigProto is deprecated. Please use tf.compat.v1.ConfigProto instead.\n",
      "\n",
      "WARNING:tensorflow:From C:\\Users\\SengTian\\Anaconda3\\envs\\tf1.15\\lib\\site-packages\\keras\\backend\\tensorflow_backend.py:190: The name tf.global_variables is deprecated. Please use tf.compat.v1.global_variables instead.\n",
      "\n",
      "WARNING:tensorflow:From C:\\Users\\SengTian\\Anaconda3\\envs\\tf1.15\\lib\\site-packages\\keras\\backend\\tensorflow_backend.py:199: The name tf.is_variable_initialized is deprecated. Please use tf.compat.v1.is_variable_initialized instead.\n",
      "\n",
      "WARNING:tensorflow:From C:\\Users\\SengTian\\Anaconda3\\envs\\tf1.15\\lib\\site-packages\\keras\\backend\\tensorflow_backend.py:206: The name tf.variables_initializer is deprecated. Please use tf.compat.v1.variables_initializer instead.\n",
      "\n",
      "5699/5699 [==============================] - 2s 375us/step - loss: 0.2280 - acc: 0.7882 - val_loss: 0.2020 - val_acc: 0.7880\n",
      "Epoch 2/12\n",
      "5699/5699 [==============================] - 1s 103us/step - loss: 0.1774 - acc: 0.7877 - val_loss: 0.1595 - val_acc: 0.7880\n",
      "Epoch 3/12\n",
      "5699/5699 [==============================] - 1s 115us/step - loss: 0.1433 - acc: 0.7877 - val_loss: 0.1205 - val_acc: 0.7880\n",
      "Epoch 4/12\n",
      "5699/5699 [==============================] - 1s 107us/step - loss: 0.0931 - acc: 0.8505 - val_loss: 0.0657 - val_acc: 0.9492\n",
      "Epoch 5/12\n",
      "5699/5699 [==============================] - 1s 115us/step - loss: 0.0526 - acc: 0.9577 - val_loss: 0.0393 - val_acc: 0.9673\n",
      "Epoch 6/12\n",
      "5699/5699 [==============================] - 1s 114us/step - loss: 0.0349 - acc: 0.9700 - val_loss: 0.0278 - val_acc: 0.9734\n",
      "Epoch 7/12\n",
      "5699/5699 [==============================] - 1s 99us/step - loss: 0.0259 - acc: 0.9753 - val_loss: 0.0210 - val_acc: 0.9799\n",
      "Epoch 8/12\n",
      "5699/5699 [==============================] - 1s 134us/step - loss: 0.0203 - acc: 0.9809 - val_loss: 0.0167 - val_acc: 0.9840\n",
      "Epoch 9/12\n",
      "5699/5699 [==============================] - 1s 120us/step - loss: 0.0169 - acc: 0.9853 - val_loss: 0.0142 - val_acc: 0.9873\n",
      "Epoch 10/12\n",
      "5699/5699 [==============================] - 1s 136us/step - loss: 0.0152 - acc: 0.9863 - val_loss: 0.0127 - val_acc: 0.9889\n",
      "Epoch 11/12\n",
      "5699/5699 [==============================] - 1s 108us/step - loss: 0.0142 - acc: 0.9854 - val_loss: 0.0120 - val_acc: 0.9889\n",
      "Epoch 12/12\n",
      "5699/5699 [==============================] - 1s 123us/step - loss: 0.0138 - acc: 0.9860 - val_loss: 0.0117 - val_acc: 0.9885\n",
      "\n",
      "2443/2443 [==============================] - 0s 38us/step\n",
      "\n",
      "test_acc: 0.9885386819484241\n"
     ]
    }
   ],
   "source": [
    "history = network.fit(X_train, y_train, epochs=12, batch_size=40, verbose=verbose, validation_data=(X_test, y_test))\n",
    "\n",
    "print()\n",
    "test_loss, test_acc = network.evaluate (X_test, y_test)\n",
    "print('\\ntest_acc:', test_acc)\n"
   ]
  },
  {
   "cell_type": "code",
   "execution_count": 18,
   "metadata": {},
   "outputs": [],
   "source": [
    "history_dict = history.history\n",
    "loss_values = history_dict['loss']\n",
    "val_loss_values = history_dict['val_loss']\n",
    "\n",
    "acc_values = history_dict['acc']\n",
    "val_acc_values = history_dict['val_acc']\n",
    "\n",
    "epochs = range(1, len(loss_values) + 1)\n"
   ]
  },
  {
   "cell_type": "code",
   "execution_count": 19,
   "metadata": {},
   "outputs": [
    {
     "data": {
      "text/plain": [
       "[<matplotlib.lines.Line2D at 0x202732cdf48>]"
      ]
     },
     "execution_count": 19,
     "metadata": {},
     "output_type": "execute_result"
    },
    {
     "data": {
      "text/plain": [
       "[<matplotlib.lines.Line2D at 0x20276295748>]"
      ]
     },
     "execution_count": 19,
     "metadata": {},
     "output_type": "execute_result"
    },
    {
     "data": {
      "text/plain": [
       "Text(0.5, 0, 'Epochs')"
      ]
     },
     "execution_count": 19,
     "metadata": {},
     "output_type": "execute_result"
    },
    {
     "data": {
      "text/plain": [
       "Text(0, 0.5, 'Loss')"
      ]
     },
     "execution_count": 19,
     "metadata": {},
     "output_type": "execute_result"
    },
    {
     "data": {
      "text/plain": [
       "<matplotlib.legend.Legend at 0x202762a7b88>"
      ]
     },
     "execution_count": 19,
     "metadata": {},
     "output_type": "execute_result"
    },
    {
     "data": {
      "text/plain": [
       "[<matplotlib.lines.Line2D at 0x202762b9888>]"
      ]
     },
     "execution_count": 19,
     "metadata": {},
     "output_type": "execute_result"
    },
    {
     "data": {
      "text/plain": [
       "[<matplotlib.lines.Line2D at 0x202762ac748>]"
      ]
     },
     "execution_count": 19,
     "metadata": {},
     "output_type": "execute_result"
    },
    {
     "data": {
      "text/plain": [
       "Text(0.5, 0, 'Epochs')"
      ]
     },
     "execution_count": 19,
     "metadata": {},
     "output_type": "execute_result"
    },
    {
     "data": {
      "text/plain": [
       "Text(0, 0.5, 'Loss')"
      ]
     },
     "execution_count": 19,
     "metadata": {},
     "output_type": "execute_result"
    },
    {
     "data": {
      "text/plain": [
       "<matplotlib.legend.Legend at 0x202762c10c8>"
      ]
     },
     "execution_count": 19,
     "metadata": {},
     "output_type": "execute_result"
    },
    {
     "data": {
      "image/png": "[encoded data removed]",
      "text/plain": [
       "<Figure size 792x360 with 2 Axes>"
      ]
     },
     "metadata": {
      "needs_background": "light"
     },
     "output_type": "display_data"
    }
   ],
   "source": [
    "fig = plt.figure(figsize=(11,5))\n",
    "ax1 = fig.add_subplot(121)\n",
    "ax2 = fig.add_subplot(122)\n",
    "\n",
    "# draw chart to show validation vs training losses\n",
    "ax1.plot(epochs, loss_values, 'r--', label='Training loss')\n",
    "ax1.plot(epochs, val_loss_values, 'b', label='Validation loss')\n",
    "ax1.title.set_text('Training and Validation Loss')\n",
    "ax1.set_xlabel('Epochs')\n",
    "ax1.set_ylabel('Loss')\n",
    "ax1.legend()\n",
    "\n",
    "# draw chart to show validation vs training accuracy\n",
    "ax2.plot(epochs, acc_values, 'r--', label='Training acc')\n",
    "ax2.plot(epochs, val_acc_values, 'b', label='Validation acc')\n",
    "ax2.title.set_text('Training and Validation Accuracy')\n",
    "ax2.set_xlabel('Epochs')\n",
    "ax2.set_ylabel('Loss')\n",
    "ax2.legend()\n",
    "\n",
    "plt.show()"
   ]
  },
  {
   "cell_type": "code",
   "execution_count": 20,
   "metadata": {},
   "outputs": [
    {
     "name": "stdout",
     "output_type": "stream",
     "text": [
      "Save model.\n",
      "Save scaler.\n"
     ]
    }
   ],
   "source": [
    "# save model and scaler for later access\n",
    "import pickle\n",
    "\n",
    "save_dir = os.path.join(os.getcwd(), 'model')\n",
    "model_filename = 'model.h5'\n",
    "scaler_filename = 'scaler.pkl'\n",
    "\n",
    "# According to Keras FAQ, it is not recommended to use pickle \n",
    "# or cPickle to save Keras model.\n",
    "# Reference: https://keras.io/getting-started/faq/\n",
    "\n",
    "# creates a HDF5 file \n",
    "network.save(os.path.join(save_dir, model_filename))  \n",
    "print('Save model.')\n",
    "\n",
    "# save the scaler performed on the the inputs    \n",
    "with open(os.path.join(save_dir, scaler_filename), 'wb+') as scaler_file:\n",
    "    pickle.dump(scaler, scaler_file)\n",
    "    print('Save scaler.')"
   ]
  },
  {
   "cell_type": "code",
   "execution_count": null,
   "metadata": {},
   "outputs": [],
   "source": []
  }
 ],
 "metadata": {
  "kernelspec": {
   "display_name": "Python 3",
   "language": "python",
   "name": "python3"
  },
  "language_info": {
   "codemirror_mode": {
    "name": "ipython",
    "version": 3
   },
   "file_extension": ".py",
   "mimetype": "text/x-python",
   "name": "python",
   "nbconvert_exporter": "python",
   "pygments_lexer": "ipython3",
   "version": "3.7.6"
  }
 },
 "nbformat": 4,
 "nbformat_minor": 2
}
